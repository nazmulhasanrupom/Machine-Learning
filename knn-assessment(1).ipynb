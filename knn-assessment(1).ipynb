{
 "cells": [
  {
   "cell_type": "code",
   "execution_count": 1,
   "id": "0870a768",
   "metadata": {
    "execution": {
     "iopub.execute_input": "2025-05-19T14:33:07.209898Z",
     "iopub.status.busy": "2025-05-19T14:33:07.209506Z",
     "iopub.status.idle": "2025-05-19T14:33:08.922364Z",
     "shell.execute_reply": "2025-05-19T14:33:08.921643Z"
    },
    "papermill": {
     "duration": 1.723268,
     "end_time": "2025-05-19T14:33:08.923854",
     "exception": false,
     "start_time": "2025-05-19T14:33:07.200586",
     "status": "completed"
    },
    "tags": []
   },
   "outputs": [],
   "source": [
    "import pandas as pd \n",
    "import warnings as wr \n",
    "wr.filterwarnings('ignore') "
   ]
  },
  {
   "cell_type": "code",
   "execution_count": 2,
   "id": "b5b3bf0e",
   "metadata": {
    "execution": {
     "iopub.execute_input": "2025-05-19T14:33:08.937811Z",
     "iopub.status.busy": "2025-05-19T14:33:08.937439Z",
     "iopub.status.idle": "2025-05-19T14:33:08.984112Z",
     "shell.execute_reply": "2025-05-19T14:33:08.983251Z"
    },
    "papermill": {
     "duration": 0.054954,
     "end_time": "2025-05-19T14:33:08.985469",
     "exception": false,
     "start_time": "2025-05-19T14:33:08.930515",
     "status": "completed"
    },
    "tags": []
   },
   "outputs": [
    {
     "data": {
      "text/html": [
       "<div>\n",
       "<style scoped>\n",
       "    .dataframe tbody tr th:only-of-type {\n",
       "        vertical-align: middle;\n",
       "    }\n",
       "\n",
       "    .dataframe tbody tr th {\n",
       "        vertical-align: top;\n",
       "    }\n",
       "\n",
       "    .dataframe thead th {\n",
       "        text-align: right;\n",
       "    }\n",
       "</style>\n",
       "<table border=\"1\" class=\"dataframe\">\n",
       "  <thead>\n",
       "    <tr style=\"text-align: right;\">\n",
       "      <th></th>\n",
       "      <th>Gender</th>\n",
       "      <th>Height</th>\n",
       "      <th>Weight</th>\n",
       "    </tr>\n",
       "  </thead>\n",
       "  <tbody>\n",
       "    <tr>\n",
       "      <th>0</th>\n",
       "      <td>Male</td>\n",
       "      <td>73.847017</td>\n",
       "      <td>241.893563</td>\n",
       "    </tr>\n",
       "    <tr>\n",
       "      <th>1</th>\n",
       "      <td>Male</td>\n",
       "      <td>68.781904</td>\n",
       "      <td>162.310473</td>\n",
       "    </tr>\n",
       "    <tr>\n",
       "      <th>2</th>\n",
       "      <td>Male</td>\n",
       "      <td>74.110105</td>\n",
       "      <td>212.740856</td>\n",
       "    </tr>\n",
       "    <tr>\n",
       "      <th>3</th>\n",
       "      <td>Male</td>\n",
       "      <td>71.730978</td>\n",
       "      <td>220.042470</td>\n",
       "    </tr>\n",
       "    <tr>\n",
       "      <th>4</th>\n",
       "      <td>Male</td>\n",
       "      <td>69.881796</td>\n",
       "      <td>206.349801</td>\n",
       "    </tr>\n",
       "  </tbody>\n",
       "</table>\n",
       "</div>"
      ],
      "text/plain": [
       "  Gender     Height      Weight\n",
       "0   Male  73.847017  241.893563\n",
       "1   Male  68.781904  162.310473\n",
       "2   Male  74.110105  212.740856\n",
       "3   Male  71.730978  220.042470\n",
       "4   Male  69.881796  206.349801"
      ]
     },
     "execution_count": 2,
     "metadata": {},
     "output_type": "execute_result"
    }
   ],
   "source": [
    "df = pd.read_csv('/kaggle/input/hightw/weight-height - weight-height.csv')\n",
    "df.head()"
   ]
  },
  {
   "cell_type": "code",
   "execution_count": 3,
   "id": "6d685610",
   "metadata": {
    "execution": {
     "iopub.execute_input": "2025-05-19T14:33:08.999169Z",
     "iopub.status.busy": "2025-05-19T14:33:08.998854Z",
     "iopub.status.idle": "2025-05-19T14:33:10.288676Z",
     "shell.execute_reply": "2025-05-19T14:33:10.287973Z"
    },
    "papermill": {
     "duration": 1.298434,
     "end_time": "2025-05-19T14:33:10.290268",
     "exception": false,
     "start_time": "2025-05-19T14:33:08.991834",
     "status": "completed"
    },
    "tags": []
   },
   "outputs": [],
   "source": [
    "from sklearn.preprocessing import LabelEncoder\n",
    "le = LabelEncoder()"
   ]
  },
  {
   "cell_type": "code",
   "execution_count": 4,
   "id": "d8d471e9",
   "metadata": {
    "execution": {
     "iopub.execute_input": "2025-05-19T14:33:10.305018Z",
     "iopub.status.busy": "2025-05-19T14:33:10.304195Z",
     "iopub.status.idle": "2025-05-19T14:33:10.318218Z",
     "shell.execute_reply": "2025-05-19T14:33:10.317287Z"
    },
    "papermill": {
     "duration": 0.022858,
     "end_time": "2025-05-19T14:33:10.319691",
     "exception": false,
     "start_time": "2025-05-19T14:33:10.296833",
     "status": "completed"
    },
    "tags": []
   },
   "outputs": [],
   "source": [
    "df.Gender = le.fit_transform(df[['Gender']])"
   ]
  },
  {
   "cell_type": "code",
   "execution_count": 5,
   "id": "2fa69ded",
   "metadata": {
    "execution": {
     "iopub.execute_input": "2025-05-19T14:33:10.334177Z",
     "iopub.status.busy": "2025-05-19T14:33:10.333732Z",
     "iopub.status.idle": "2025-05-19T14:33:10.343802Z",
     "shell.execute_reply": "2025-05-19T14:33:10.343134Z"
    },
    "papermill": {
     "duration": 0.018952,
     "end_time": "2025-05-19T14:33:10.345152",
     "exception": false,
     "start_time": "2025-05-19T14:33:10.326200",
     "status": "completed"
    },
    "tags": []
   },
   "outputs": [
    {
     "data": {
      "text/html": [
       "<div>\n",
       "<style scoped>\n",
       "    .dataframe tbody tr th:only-of-type {\n",
       "        vertical-align: middle;\n",
       "    }\n",
       "\n",
       "    .dataframe tbody tr th {\n",
       "        vertical-align: top;\n",
       "    }\n",
       "\n",
       "    .dataframe thead th {\n",
       "        text-align: right;\n",
       "    }\n",
       "</style>\n",
       "<table border=\"1\" class=\"dataframe\">\n",
       "  <thead>\n",
       "    <tr style=\"text-align: right;\">\n",
       "      <th></th>\n",
       "      <th>Gender</th>\n",
       "      <th>Height</th>\n",
       "      <th>Weight</th>\n",
       "    </tr>\n",
       "  </thead>\n",
       "  <tbody>\n",
       "    <tr>\n",
       "      <th>0</th>\n",
       "      <td>1</td>\n",
       "      <td>73.847017</td>\n",
       "      <td>241.893563</td>\n",
       "    </tr>\n",
       "    <tr>\n",
       "      <th>1</th>\n",
       "      <td>1</td>\n",
       "      <td>68.781904</td>\n",
       "      <td>162.310473</td>\n",
       "    </tr>\n",
       "    <tr>\n",
       "      <th>2</th>\n",
       "      <td>1</td>\n",
       "      <td>74.110105</td>\n",
       "      <td>212.740856</td>\n",
       "    </tr>\n",
       "    <tr>\n",
       "      <th>3</th>\n",
       "      <td>1</td>\n",
       "      <td>71.730978</td>\n",
       "      <td>220.042470</td>\n",
       "    </tr>\n",
       "    <tr>\n",
       "      <th>4</th>\n",
       "      <td>1</td>\n",
       "      <td>69.881796</td>\n",
       "      <td>206.349801</td>\n",
       "    </tr>\n",
       "  </tbody>\n",
       "</table>\n",
       "</div>"
      ],
      "text/plain": [
       "   Gender     Height      Weight\n",
       "0       1  73.847017  241.893563\n",
       "1       1  68.781904  162.310473\n",
       "2       1  74.110105  212.740856\n",
       "3       1  71.730978  220.042470\n",
       "4       1  69.881796  206.349801"
      ]
     },
     "execution_count": 5,
     "metadata": {},
     "output_type": "execute_result"
    }
   ],
   "source": [
    "df.head()"
   ]
  },
  {
   "cell_type": "code",
   "execution_count": 6,
   "id": "abfd681b",
   "metadata": {
    "execution": {
     "iopub.execute_input": "2025-05-19T14:33:10.359278Z",
     "iopub.status.busy": "2025-05-19T14:33:10.358980Z",
     "iopub.status.idle": "2025-05-19T14:33:10.367433Z",
     "shell.execute_reply": "2025-05-19T14:33:10.366588Z"
    },
    "papermill": {
     "duration": 0.016981,
     "end_time": "2025-05-19T14:33:10.368732",
     "exception": false,
     "start_time": "2025-05-19T14:33:10.351751",
     "status": "completed"
    },
    "tags": []
   },
   "outputs": [
    {
     "data": {
      "text/html": [
       "<div>\n",
       "<style scoped>\n",
       "    .dataframe tbody tr th:only-of-type {\n",
       "        vertical-align: middle;\n",
       "    }\n",
       "\n",
       "    .dataframe tbody tr th {\n",
       "        vertical-align: top;\n",
       "    }\n",
       "\n",
       "    .dataframe thead th {\n",
       "        text-align: right;\n",
       "    }\n",
       "</style>\n",
       "<table border=\"1\" class=\"dataframe\">\n",
       "  <thead>\n",
       "    <tr style=\"text-align: right;\">\n",
       "      <th></th>\n",
       "      <th>Gender</th>\n",
       "      <th>Height</th>\n",
       "      <th>Weight</th>\n",
       "    </tr>\n",
       "  </thead>\n",
       "  <tbody>\n",
       "    <tr>\n",
       "      <th>8550</th>\n",
       "      <td>0</td>\n",
       "      <td>60.483946</td>\n",
       "      <td>110.565497</td>\n",
       "    </tr>\n",
       "    <tr>\n",
       "      <th>8551</th>\n",
       "      <td>0</td>\n",
       "      <td>63.423372</td>\n",
       "      <td>129.921671</td>\n",
       "    </tr>\n",
       "    <tr>\n",
       "      <th>8552</th>\n",
       "      <td>0</td>\n",
       "      <td>65.584057</td>\n",
       "      <td>155.942671</td>\n",
       "    </tr>\n",
       "    <tr>\n",
       "      <th>8553</th>\n",
       "      <td>0</td>\n",
       "      <td>67.429971</td>\n",
       "      <td>151.678405</td>\n",
       "    </tr>\n",
       "    <tr>\n",
       "      <th>8554</th>\n",
       "      <td>0</td>\n",
       "      <td>60.921791</td>\n",
       "      <td>131.253738</td>\n",
       "    </tr>\n",
       "  </tbody>\n",
       "</table>\n",
       "</div>"
      ],
      "text/plain": [
       "      Gender     Height      Weight\n",
       "8550       0  60.483946  110.565497\n",
       "8551       0  63.423372  129.921671\n",
       "8552       0  65.584057  155.942671\n",
       "8553       0  67.429971  151.678405\n",
       "8554       0  60.921791  131.253738"
      ]
     },
     "execution_count": 6,
     "metadata": {},
     "output_type": "execute_result"
    }
   ],
   "source": [
    "df.tail()"
   ]
  },
  {
   "cell_type": "markdown",
   "id": "54a3bfda",
   "metadata": {
    "papermill": {
     "duration": 0.006167,
     "end_time": "2025-05-19T14:33:10.381422",
     "exception": false,
     "start_time": "2025-05-19T14:33:10.375255",
     "status": "completed"
    },
    "tags": []
   },
   "source": [
    "# Go Ahead"
   ]
  },
  {
   "cell_type": "code",
   "execution_count": 7,
   "id": "ca392a52",
   "metadata": {
    "execution": {
     "iopub.execute_input": "2025-05-19T14:33:10.395798Z",
     "iopub.status.busy": "2025-05-19T14:33:10.394958Z",
     "iopub.status.idle": "2025-05-19T14:33:10.402672Z",
     "shell.execute_reply": "2025-05-19T14:33:10.401845Z"
    },
    "papermill": {
     "duration": 0.01643,
     "end_time": "2025-05-19T14:33:10.404138",
     "exception": false,
     "start_time": "2025-05-19T14:33:10.387708",
     "status": "completed"
    },
    "tags": []
   },
   "outputs": [],
   "source": [
    "\n",
    "X = df.drop(['Weight'],axis=1)\n",
    "Y = df[['Weight']]"
   ]
  },
  {
   "cell_type": "code",
   "execution_count": 8,
   "id": "477794e3",
   "metadata": {
    "execution": {
     "iopub.execute_input": "2025-05-19T14:33:10.418750Z",
     "iopub.status.busy": "2025-05-19T14:33:10.418461Z",
     "iopub.status.idle": "2025-05-19T14:33:10.423792Z",
     "shell.execute_reply": "2025-05-19T14:33:10.423120Z"
    },
    "papermill": {
     "duration": 0.014333,
     "end_time": "2025-05-19T14:33:10.425187",
     "exception": false,
     "start_time": "2025-05-19T14:33:10.410854",
     "status": "completed"
    },
    "tags": []
   },
   "outputs": [
    {
     "data": {
      "text/plain": [
       "(8555, 2)"
      ]
     },
     "execution_count": 8,
     "metadata": {},
     "output_type": "execute_result"
    }
   ],
   "source": [
    "X.shape"
   ]
  },
  {
   "cell_type": "code",
   "execution_count": 9,
   "id": "a9b255e6",
   "metadata": {
    "execution": {
     "iopub.execute_input": "2025-05-19T14:33:10.439966Z",
     "iopub.status.busy": "2025-05-19T14:33:10.439636Z",
     "iopub.status.idle": "2025-05-19T14:33:10.447709Z",
     "shell.execute_reply": "2025-05-19T14:33:10.446761Z"
    },
    "papermill": {
     "duration": 0.017158,
     "end_time": "2025-05-19T14:33:10.449138",
     "exception": false,
     "start_time": "2025-05-19T14:33:10.431980",
     "status": "completed"
    },
    "tags": []
   },
   "outputs": [
    {
     "data": {
      "text/html": [
       "<div>\n",
       "<style scoped>\n",
       "    .dataframe tbody tr th:only-of-type {\n",
       "        vertical-align: middle;\n",
       "    }\n",
       "\n",
       "    .dataframe tbody tr th {\n",
       "        vertical-align: top;\n",
       "    }\n",
       "\n",
       "    .dataframe thead th {\n",
       "        text-align: right;\n",
       "    }\n",
       "</style>\n",
       "<table border=\"1\" class=\"dataframe\">\n",
       "  <thead>\n",
       "    <tr style=\"text-align: right;\">\n",
       "      <th></th>\n",
       "      <th>Weight</th>\n",
       "    </tr>\n",
       "  </thead>\n",
       "  <tbody>\n",
       "    <tr>\n",
       "      <th>0</th>\n",
       "      <td>241.893563</td>\n",
       "    </tr>\n",
       "    <tr>\n",
       "      <th>1</th>\n",
       "      <td>162.310473</td>\n",
       "    </tr>\n",
       "    <tr>\n",
       "      <th>2</th>\n",
       "      <td>212.740856</td>\n",
       "    </tr>\n",
       "    <tr>\n",
       "      <th>3</th>\n",
       "      <td>220.042470</td>\n",
       "    </tr>\n",
       "    <tr>\n",
       "      <th>4</th>\n",
       "      <td>206.349801</td>\n",
       "    </tr>\n",
       "  </tbody>\n",
       "</table>\n",
       "</div>"
      ],
      "text/plain": [
       "       Weight\n",
       "0  241.893563\n",
       "1  162.310473\n",
       "2  212.740856\n",
       "3  220.042470\n",
       "4  206.349801"
      ]
     },
     "execution_count": 9,
     "metadata": {},
     "output_type": "execute_result"
    }
   ],
   "source": [
    "Y.head()"
   ]
  },
  {
   "cell_type": "code",
   "execution_count": 10,
   "id": "ececf2a9",
   "metadata": {
    "execution": {
     "iopub.execute_input": "2025-05-19T14:33:10.464481Z",
     "iopub.status.busy": "2025-05-19T14:33:10.463754Z",
     "iopub.status.idle": "2025-05-19T14:33:10.564709Z",
     "shell.execute_reply": "2025-05-19T14:33:10.563819Z"
    },
    "papermill": {
     "duration": 0.110346,
     "end_time": "2025-05-19T14:33:10.566382",
     "exception": false,
     "start_time": "2025-05-19T14:33:10.456036",
     "status": "completed"
    },
    "tags": []
   },
   "outputs": [],
   "source": [
    "from sklearn.model_selection import train_test_split\n",
    "xtrain,xtest,ytrain,ytest = train_test_split(X,Y,train_size = 0.70 , random_state = 42)"
   ]
  },
  {
   "cell_type": "markdown",
   "id": "e27a4967",
   "metadata": {
    "papermill": {
     "duration": 0.006464,
     "end_time": "2025-05-19T14:33:10.579753",
     "exception": false,
     "start_time": "2025-05-19T14:33:10.573289",
     "status": "completed"
    },
    "tags": []
   },
   "source": [
    "# EDA"
   ]
  },
  {
   "cell_type": "code",
   "execution_count": 11,
   "id": "487cfbef",
   "metadata": {
    "execution": {
     "iopub.execute_input": "2025-05-19T14:33:10.594626Z",
     "iopub.status.busy": "2025-05-19T14:33:10.593818Z",
     "iopub.status.idle": "2025-05-19T14:33:11.154532Z",
     "shell.execute_reply": "2025-05-19T14:33:11.153685Z"
    },
    "papermill": {
     "duration": 0.569694,
     "end_time": "2025-05-19T14:33:11.156024",
     "exception": false,
     "start_time": "2025-05-19T14:33:10.586330",
     "status": "completed"
    },
    "tags": []
   },
   "outputs": [
    {
     "data": {
      "text/plain": [
       "Text(0, 0.5, 'ytrain')"
      ]
     },
     "execution_count": 11,
     "metadata": {},
     "output_type": "execute_result"
    },
    {
     "data": {
      "image/png": "[encoded data removed]",
      "text/plain": [
       "<Figure size 640x480 with 1 Axes>"
      ]
     },
     "metadata": {},
     "output_type": "display_data"
    }
   ],
   "source": [
    "import matplotlib.pyplot as plt\n",
    "\n",
    "plt.plot(xtrain,ytrain)\n",
    "plt.xlabel(\"xtrain\")\n",
    "plt.ylabel(\"ytrain\")"
   ]
  },
  {
   "cell_type": "markdown",
   "id": "9085720a",
   "metadata": {
    "papermill": {
     "duration": 0.007085,
     "end_time": "2025-05-19T14:33:11.170763",
     "exception": false,
     "start_time": "2025-05-19T14:33:11.163678",
     "status": "completed"
    },
    "tags": []
   },
   "source": [
    "# Least Squared Linear Regression"
   ]
  },
  {
   "cell_type": "code",
   "execution_count": 12,
   "id": "d68764b5",
   "metadata": {
    "execution": {
     "iopub.execute_input": "2025-05-19T14:33:11.186658Z",
     "iopub.status.busy": "2025-05-19T14:33:11.186042Z",
     "iopub.status.idle": "2025-05-19T14:33:11.282656Z",
     "shell.execute_reply": "2025-05-19T14:33:11.281967Z"
    },
    "papermill": {
     "duration": 0.106262,
     "end_time": "2025-05-19T14:33:11.284265",
     "exception": false,
     "start_time": "2025-05-19T14:33:11.178003",
     "status": "completed"
    },
    "tags": []
   },
   "outputs": [],
   "source": [
    "from sklearn.linear_model import LinearRegression\n",
    "LG = LinearRegression()"
   ]
  },
  {
   "cell_type": "code",
   "execution_count": 13,
   "id": "4bdf0fd6",
   "metadata": {
    "execution": {
     "iopub.execute_input": "2025-05-19T14:33:11.300102Z",
     "iopub.status.busy": "2025-05-19T14:33:11.299777Z",
     "iopub.status.idle": "2025-05-19T14:33:11.337134Z",
     "shell.execute_reply": "2025-05-19T14:33:11.336234Z"
    },
    "papermill": {
     "duration": 0.046741,
     "end_time": "2025-05-19T14:33:11.338470",
     "exception": false,
     "start_time": "2025-05-19T14:33:11.291729",
     "status": "completed"
    },
    "tags": []
   },
   "outputs": [
    {
     "data": {
      "text/html": [
       "<style>#sk-container-id-1 {color: black;background-color: white;}#sk-container-id-1 pre{padding: 0;}#sk-container-id-1 div.sk-toggleable {background-color: white;}#sk-container-id-1 label.sk-toggleable__label {cursor: pointer;display: block;width: 100%;margin-bottom: 0;padding: 0.3em;box-sizing: border-box;text-align: center;}#sk-container-id-1 label.sk-toggleable__label-arrow:before {content: \"▸\";float: left;margin-right: 0.25em;color: #696969;}#sk-container-id-1 label.sk-toggleable__label-arrow:hover:before {color: black;}#sk-container-id-1 div.sk-estimator:hover label.sk-toggleable__label-arrow:before {color: black;}#sk-container-id-1 div.sk-toggleable__content {max-height: 0;max-width: 0;overflow: hidden;text-align: left;background-color: #f0f8ff;}#sk-container-id-1 div.sk-toggleable__content pre {margin: 0.2em;color: black;border-radius: 0.25em;background-color: #f0f8ff;}#sk-container-id-1 input.sk-toggleable__control:checked~div.sk-toggleable__content {max-height: 200px;max-width: 100%;overflow: auto;}#sk-container-id-1 input.sk-toggleable__control:checked~label.sk-toggleable__label-arrow:before {content: \"▾\";}#sk-container-id-1 div.sk-estimator input.sk-toggleable__control:checked~label.sk-toggleable__label {background-color: #d4ebff;}#sk-container-id-1 div.sk-label input.sk-toggleable__control:checked~label.sk-toggleable__label {background-color: #d4ebff;}#sk-container-id-1 input.sk-hidden--visually {border: 0;clip: rect(1px 1px 1px 1px);clip: rect(1px, 1px, 1px, 1px);height: 1px;margin: -1px;overflow: hidden;padding: 0;position: absolute;width: 1px;}#sk-container-id-1 div.sk-estimator {font-family: monospace;background-color: #f0f8ff;border: 1px dotted black;border-radius: 0.25em;box-sizing: border-box;margin-bottom: 0.5em;}#sk-container-id-1 div.sk-estimator:hover {background-color: #d4ebff;}#sk-container-id-1 div.sk-parallel-item::after {content: \"\";width: 100%;border-bottom: 1px solid gray;flex-grow: 1;}#sk-container-id-1 div.sk-label:hover label.sk-toggleable__label {background-color: #d4ebff;}#sk-container-id-1 div.sk-serial::before {content: \"\";position: absolute;border-left: 1px solid gray;box-sizing: border-box;top: 0;bottom: 0;left: 50%;z-index: 0;}#sk-container-id-1 div.sk-serial {display: flex;flex-direction: column;align-items: center;background-color: white;padding-right: 0.2em;padding-left: 0.2em;position: relative;}#sk-container-id-1 div.sk-item {position: relative;z-index: 1;}#sk-container-id-1 div.sk-parallel {display: flex;align-items: stretch;justify-content: center;background-color: white;position: relative;}#sk-container-id-1 div.sk-item::before, #sk-container-id-1 div.sk-parallel-item::before {content: \"\";position: absolute;border-left: 1px solid gray;box-sizing: border-box;top: 0;bottom: 0;left: 50%;z-index: -1;}#sk-container-id-1 div.sk-parallel-item {display: flex;flex-direction: column;z-index: 1;position: relative;background-color: white;}#sk-container-id-1 div.sk-parallel-item:first-child::after {align-self: flex-end;width: 50%;}#sk-container-id-1 div.sk-parallel-item:last-child::after {align-self: flex-start;width: 50%;}#sk-container-id-1 div.sk-parallel-item:only-child::after {width: 0;}#sk-container-id-1 div.sk-dashed-wrapped {border: 1px dashed gray;margin: 0 0.4em 0.5em 0.4em;box-sizing: border-box;padding-bottom: 0.4em;background-color: white;}#sk-container-id-1 div.sk-label label {font-family: monospace;font-weight: bold;display: inline-block;line-height: 1.2em;}#sk-container-id-1 div.sk-label-container {text-align: center;}#sk-container-id-1 div.sk-container {/* jupyter's `normalize.less` sets `[hidden] { display: none; }` but bootstrap.min.css set `[hidden] { display: none !important; }` so we also need the `!important` here to be able to override the default hidden behavior on the sphinx rendered scikit-learn.org. See: https://github.com/scikit-learn/scikit-learn/issues/21755 */display: inline-block !important;position: relative;}#sk-container-id-1 div.sk-text-repr-fallback {display: none;}</style><div id=\"sk-container-id-1\" class=\"sk-top-container\"><div class=\"sk-text-repr-fallback\"><pre>LinearRegression()</pre><b>In a Jupyter environment, please rerun this cell to show the HTML representation or trust the notebook. <br />On GitHub, the HTML representation is unable to render, please try loading this page with nbviewer.org.</b></div><div class=\"sk-container\" hidden><div class=\"sk-item\"><div class=\"sk-estimator sk-toggleable\"><input class=\"sk-toggleable__control sk-hidden--visually\" id=\"sk-estimator-id-1\" type=\"checkbox\" checked><label for=\"sk-estimator-id-1\" class=\"sk-toggleable__label sk-toggleable__label-arrow\">LinearRegression</label><div class=\"sk-toggleable__content\"><pre>LinearRegression()</pre></div></div></div></div></div>"
      ],
      "text/plain": [
       "LinearRegression()"
      ]
     },
     "execution_count": 13,
     "metadata": {},
     "output_type": "execute_result"
    }
   ],
   "source": [
    "LG.fit(xtrain,ytrain)"
   ]
  },
  {
   "cell_type": "code",
   "execution_count": 14,
   "id": "da603458",
   "metadata": {
    "execution": {
     "iopub.execute_input": "2025-05-19T14:33:11.354914Z",
     "iopub.status.busy": "2025-05-19T14:33:11.354620Z",
     "iopub.status.idle": "2025-05-19T14:33:11.361835Z",
     "shell.execute_reply": "2025-05-19T14:33:11.361066Z"
    },
    "papermill": {
     "duration": 0.016918,
     "end_time": "2025-05-19T14:33:11.363207",
     "exception": false,
     "start_time": "2025-05-19T14:33:11.346289",
     "status": "completed"
    },
    "tags": []
   },
   "outputs": [
    {
     "data": {
      "text/plain": [
       "array([[142.44868114],\n",
       "       [186.0517281 ],\n",
       "       [198.42283706],\n",
       "       ...,\n",
       "       [102.94080643],\n",
       "       [190.83713617],\n",
       "       [143.34786753]])"
      ]
     },
     "execution_count": 14,
     "metadata": {},
     "output_type": "execute_result"
    }
   ],
   "source": [
    "LG.predict(xtest)"
   ]
  },
  {
   "cell_type": "code",
   "execution_count": 15,
   "id": "09fbc68e",
   "metadata": {
    "execution": {
     "iopub.execute_input": "2025-05-19T14:33:11.379834Z",
     "iopub.status.busy": "2025-05-19T14:33:11.379529Z",
     "iopub.status.idle": "2025-05-19T14:33:11.387933Z",
     "shell.execute_reply": "2025-05-19T14:33:11.387238Z"
    },
    "papermill": {
     "duration": 0.018227,
     "end_time": "2025-05-19T14:33:11.389282",
     "exception": false,
     "start_time": "2025-05-19T14:33:11.371055",
     "status": "completed"
    },
    "tags": []
   },
   "outputs": [
    {
     "data": {
      "text/plain": [
       "0.905911242442266"
      ]
     },
     "execution_count": 15,
     "metadata": {},
     "output_type": "execute_result"
    }
   ],
   "source": [
    "LG.score(xtest,ytest)"
   ]
  },
  {
   "cell_type": "code",
   "execution_count": 16,
   "id": "7267cb3b",
   "metadata": {
    "execution": {
     "iopub.execute_input": "2025-05-19T14:33:11.405975Z",
     "iopub.status.busy": "2025-05-19T14:33:11.405644Z",
     "iopub.status.idle": "2025-05-19T14:33:11.414067Z",
     "shell.execute_reply": "2025-05-19T14:33:11.413268Z"
    },
    "papermill": {
     "duration": 0.018253,
     "end_time": "2025-05-19T14:33:11.415510",
     "exception": false,
     "start_time": "2025-05-19T14:33:11.397257",
     "status": "completed"
    },
    "tags": []
   },
   "outputs": [
    {
     "data": {
      "text/plain": [
       "0.8973793060969246"
      ]
     },
     "execution_count": 16,
     "metadata": {},
     "output_type": "execute_result"
    }
   ],
   "source": [
    "LG.score(xtrain,ytrain)"
   ]
  },
  {
   "cell_type": "code",
   "execution_count": 17,
   "id": "73d372bf",
   "metadata": {
    "execution": {
     "iopub.execute_input": "2025-05-19T14:33:11.432391Z",
     "iopub.status.busy": "2025-05-19T14:33:11.432091Z",
     "iopub.status.idle": "2025-05-19T14:33:11.437419Z",
     "shell.execute_reply": "2025-05-19T14:33:11.436685Z"
    },
    "papermill": {
     "duration": 0.015353,
     "end_time": "2025-05-19T14:33:11.438738",
     "exception": false,
     "start_time": "2025-05-19T14:33:11.423385",
     "status": "completed"
    },
    "tags": []
   },
   "outputs": [],
   "source": [
    "predicted = LG.predict(xtest)"
   ]
  },
  {
   "cell_type": "code",
   "execution_count": 18,
   "id": "f32400f8",
   "metadata": {
    "execution": {
     "iopub.execute_input": "2025-05-19T14:33:11.456603Z",
     "iopub.status.busy": "2025-05-19T14:33:11.455804Z",
     "iopub.status.idle": "2025-05-19T14:33:11.462859Z",
     "shell.execute_reply": "2025-05-19T14:33:11.461991Z"
    },
    "papermill": {
     "duration": 0.017216,
     "end_time": "2025-05-19T14:33:11.464303",
     "exception": false,
     "start_time": "2025-05-19T14:33:11.447087",
     "status": "completed"
    },
    "tags": []
   },
   "outputs": [
    {
     "data": {
      "text/plain": [
       "96.83734437830608"
      ]
     },
     "execution_count": 18,
     "metadata": {},
     "output_type": "execute_result"
    }
   ],
   "source": [
    "from sklearn.metrics import mean_squared_error\n",
    "mse = mean_squared_error(ytest,predicted)\n",
    "mse"
   ]
  },
  {
   "cell_type": "markdown",
   "id": "57110378",
   "metadata": {
    "papermill": {
     "duration": 0.007717,
     "end_time": "2025-05-19T14:33:11.480086",
     "exception": false,
     "start_time": "2025-05-19T14:33:11.472369",
     "status": "completed"
    },
    "tags": []
   },
   "source": [
    "# Regression Problem"
   ]
  },
  {
   "cell_type": "code",
   "execution_count": 19,
   "id": "3704a32d",
   "metadata": {
    "execution": {
     "iopub.execute_input": "2025-05-19T14:33:11.564521Z",
     "iopub.status.busy": "2025-05-19T14:33:11.564244Z",
     "iopub.status.idle": "2025-05-19T14:33:11.697563Z",
     "shell.execute_reply": "2025-05-19T14:33:11.696736Z"
    },
    "papermill": {
     "duration": 0.210962,
     "end_time": "2025-05-19T14:33:11.698976",
     "exception": false,
     "start_time": "2025-05-19T14:33:11.488014",
     "status": "completed"
    },
    "tags": []
   },
   "outputs": [
    {
     "data": {
      "text/html": [
       "<style>#sk-container-id-2 {color: black;background-color: white;}#sk-container-id-2 pre{padding: 0;}#sk-container-id-2 div.sk-toggleable {background-color: white;}#sk-container-id-2 label.sk-toggleable__label {cursor: pointer;display: block;width: 100%;margin-bottom: 0;padding: 0.3em;box-sizing: border-box;text-align: center;}#sk-container-id-2 label.sk-toggleable__label-arrow:before {content: \"▸\";float: left;margin-right: 0.25em;color: #696969;}#sk-container-id-2 label.sk-toggleable__label-arrow:hover:before {color: black;}#sk-container-id-2 div.sk-estimator:hover label.sk-toggleable__label-arrow:before {color: black;}#sk-container-id-2 div.sk-toggleable__content {max-height: 0;max-width: 0;overflow: hidden;text-align: left;background-color: #f0f8ff;}#sk-container-id-2 div.sk-toggleable__content pre {margin: 0.2em;color: black;border-radius: 0.25em;background-color: #f0f8ff;}#sk-container-id-2 input.sk-toggleable__control:checked~div.sk-toggleable__content {max-height: 200px;max-width: 100%;overflow: auto;}#sk-container-id-2 input.sk-toggleable__control:checked~label.sk-toggleable__label-arrow:before {content: \"▾\";}#sk-container-id-2 div.sk-estimator input.sk-toggleable__control:checked~label.sk-toggleable__label {background-color: #d4ebff;}#sk-container-id-2 div.sk-label input.sk-toggleable__control:checked~label.sk-toggleable__label {background-color: #d4ebff;}#sk-container-id-2 input.sk-hidden--visually {border: 0;clip: rect(1px 1px 1px 1px);clip: rect(1px, 1px, 1px, 1px);height: 1px;margin: -1px;overflow: hidden;padding: 0;position: absolute;width: 1px;}#sk-container-id-2 div.sk-estimator {font-family: monospace;background-color: #f0f8ff;border: 1px dotted black;border-radius: 0.25em;box-sizing: border-box;margin-bottom: 0.5em;}#sk-container-id-2 div.sk-estimator:hover {background-color: #d4ebff;}#sk-container-id-2 div.sk-parallel-item::after {content: \"\";width: 100%;border-bottom: 1px solid gray;flex-grow: 1;}#sk-container-id-2 div.sk-label:hover label.sk-toggleable__label {background-color: #d4ebff;}#sk-container-id-2 div.sk-serial::before {content: \"\";position: absolute;border-left: 1px solid gray;box-sizing: border-box;top: 0;bottom: 0;left: 50%;z-index: 0;}#sk-container-id-2 div.sk-serial {display: flex;flex-direction: column;align-items: center;background-color: white;padding-right: 0.2em;padding-left: 0.2em;position: relative;}#sk-container-id-2 div.sk-item {position: relative;z-index: 1;}#sk-container-id-2 div.sk-parallel {display: flex;align-items: stretch;justify-content: center;background-color: white;position: relative;}#sk-container-id-2 div.sk-item::before, #sk-container-id-2 div.sk-parallel-item::before {content: \"\";position: absolute;border-left: 1px solid gray;box-sizing: border-box;top: 0;bottom: 0;left: 50%;z-index: -1;}#sk-container-id-2 div.sk-parallel-item {display: flex;flex-direction: column;z-index: 1;position: relative;background-color: white;}#sk-container-id-2 div.sk-parallel-item:first-child::after {align-self: flex-end;width: 50%;}#sk-container-id-2 div.sk-parallel-item:last-child::after {align-self: flex-start;width: 50%;}#sk-container-id-2 div.sk-parallel-item:only-child::after {width: 0;}#sk-container-id-2 div.sk-dashed-wrapped {border: 1px dashed gray;margin: 0 0.4em 0.5em 0.4em;box-sizing: border-box;padding-bottom: 0.4em;background-color: white;}#sk-container-id-2 div.sk-label label {font-family: monospace;font-weight: bold;display: inline-block;line-height: 1.2em;}#sk-container-id-2 div.sk-label-container {text-align: center;}#sk-container-id-2 div.sk-container {/* jupyter's `normalize.less` sets `[hidden] { display: none; }` but bootstrap.min.css set `[hidden] { display: none !important; }` so we also need the `!important` here to be able to override the default hidden behavior on the sphinx rendered scikit-learn.org. See: https://github.com/scikit-learn/scikit-learn/issues/21755 */display: inline-block !important;position: relative;}#sk-container-id-2 div.sk-text-repr-fallback {display: none;}</style><div id=\"sk-container-id-2\" class=\"sk-top-container\"><div class=\"sk-text-repr-fallback\"><pre>KNeighborsRegressor()</pre><b>In a Jupyter environment, please rerun this cell to show the HTML representation or trust the notebook. <br />On GitHub, the HTML representation is unable to render, please try loading this page with nbviewer.org.</b></div><div class=\"sk-container\" hidden><div class=\"sk-item\"><div class=\"sk-estimator sk-toggleable\"><input class=\"sk-toggleable__control sk-hidden--visually\" id=\"sk-estimator-id-2\" type=\"checkbox\" checked><label for=\"sk-estimator-id-2\" class=\"sk-toggleable__label sk-toggleable__label-arrow\">KNeighborsRegressor</label><div class=\"sk-toggleable__content\"><pre>KNeighborsRegressor()</pre></div></div></div></div></div>"
      ],
      "text/plain": [
       "KNeighborsRegressor()"
      ]
     },
     "execution_count": 19,
     "metadata": {},
     "output_type": "execute_result"
    }
   ],
   "source": [
    "#kNN regressor\n",
    "from sklearn.neighbors import KNeighborsRegressor\n",
    "KNR = KNeighborsRegressor()\n",
    "KNR.fit(xtrain,ytrain)\n"
   ]
  },
  {
   "cell_type": "code",
   "execution_count": 20,
   "id": "bda47fc6",
   "metadata": {
    "execution": {
     "iopub.execute_input": "2025-05-19T14:33:11.716289Z",
     "iopub.status.busy": "2025-05-19T14:33:11.716002Z",
     "iopub.status.idle": "2025-05-19T14:33:11.746652Z",
     "shell.execute_reply": "2025-05-19T14:33:11.745902Z"
    },
    "papermill": {
     "duration": 0.04081,
     "end_time": "2025-05-19T14:33:11.747959",
     "exception": false,
     "start_time": "2025-05-19T14:33:11.707149",
     "status": "completed"
    },
    "tags": []
   },
   "outputs": [
    {
     "data": {
      "text/plain": [
       "0.8821086423439015"
      ]
     },
     "execution_count": 20,
     "metadata": {},
     "output_type": "execute_result"
    }
   ],
   "source": [
    "KNR.score(xtest,ytest)"
   ]
  },
  {
   "cell_type": "code",
   "execution_count": 21,
   "id": "e5f9c1d1",
   "metadata": {
    "execution": {
     "iopub.execute_input": "2025-05-19T14:33:11.765908Z",
     "iopub.status.busy": "2025-05-19T14:33:11.765383Z",
     "iopub.status.idle": "2025-05-19T14:33:11.776746Z",
     "shell.execute_reply": "2025-05-19T14:33:11.775839Z"
    },
    "papermill": {
     "duration": 0.021878,
     "end_time": "2025-05-19T14:33:11.778154",
     "exception": false,
     "start_time": "2025-05-19T14:33:11.756276",
     "status": "completed"
    },
    "tags": []
   },
   "outputs": [
    {
     "data": {
      "text/html": [
       "<style>#sk-container-id-3 {color: black;background-color: white;}#sk-container-id-3 pre{padding: 0;}#sk-container-id-3 div.sk-toggleable {background-color: white;}#sk-container-id-3 label.sk-toggleable__label {cursor: pointer;display: block;width: 100%;margin-bottom: 0;padding: 0.3em;box-sizing: border-box;text-align: center;}#sk-container-id-3 label.sk-toggleable__label-arrow:before {content: \"▸\";float: left;margin-right: 0.25em;color: #696969;}#sk-container-id-3 label.sk-toggleable__label-arrow:hover:before {color: black;}#sk-container-id-3 div.sk-estimator:hover label.sk-toggleable__label-arrow:before {color: black;}#sk-container-id-3 div.sk-toggleable__content {max-height: 0;max-width: 0;overflow: hidden;text-align: left;background-color: #f0f8ff;}#sk-container-id-3 div.sk-toggleable__content pre {margin: 0.2em;color: black;border-radius: 0.25em;background-color: #f0f8ff;}#sk-container-id-3 input.sk-toggleable__control:checked~div.sk-toggleable__content {max-height: 200px;max-width: 100%;overflow: auto;}#sk-container-id-3 input.sk-toggleable__control:checked~label.sk-toggleable__label-arrow:before {content: \"▾\";}#sk-container-id-3 div.sk-estimator input.sk-toggleable__control:checked~label.sk-toggleable__label {background-color: #d4ebff;}#sk-container-id-3 div.sk-label input.sk-toggleable__control:checked~label.sk-toggleable__label {background-color: #d4ebff;}#sk-container-id-3 input.sk-hidden--visually {border: 0;clip: rect(1px 1px 1px 1px);clip: rect(1px, 1px, 1px, 1px);height: 1px;margin: -1px;overflow: hidden;padding: 0;position: absolute;width: 1px;}#sk-container-id-3 div.sk-estimator {font-family: monospace;background-color: #f0f8ff;border: 1px dotted black;border-radius: 0.25em;box-sizing: border-box;margin-bottom: 0.5em;}#sk-container-id-3 div.sk-estimator:hover {background-color: #d4ebff;}#sk-container-id-3 div.sk-parallel-item::after {content: \"\";width: 100%;border-bottom: 1px solid gray;flex-grow: 1;}#sk-container-id-3 div.sk-label:hover label.sk-toggleable__label {background-color: #d4ebff;}#sk-container-id-3 div.sk-serial::before {content: \"\";position: absolute;border-left: 1px solid gray;box-sizing: border-box;top: 0;bottom: 0;left: 50%;z-index: 0;}#sk-container-id-3 div.sk-serial {display: flex;flex-direction: column;align-items: center;background-color: white;padding-right: 0.2em;padding-left: 0.2em;position: relative;}#sk-container-id-3 div.sk-item {position: relative;z-index: 1;}#sk-container-id-3 div.sk-parallel {display: flex;align-items: stretch;justify-content: center;background-color: white;position: relative;}#sk-container-id-3 div.sk-item::before, #sk-container-id-3 div.sk-parallel-item::before {content: \"\";position: absolute;border-left: 1px solid gray;box-sizing: border-box;top: 0;bottom: 0;left: 50%;z-index: -1;}#sk-container-id-3 div.sk-parallel-item {display: flex;flex-direction: column;z-index: 1;position: relative;background-color: white;}#sk-container-id-3 div.sk-parallel-item:first-child::after {align-self: flex-end;width: 50%;}#sk-container-id-3 div.sk-parallel-item:last-child::after {align-self: flex-start;width: 50%;}#sk-container-id-3 div.sk-parallel-item:only-child::after {width: 0;}#sk-container-id-3 div.sk-dashed-wrapped {border: 1px dashed gray;margin: 0 0.4em 0.5em 0.4em;box-sizing: border-box;padding-bottom: 0.4em;background-color: white;}#sk-container-id-3 div.sk-label label {font-family: monospace;font-weight: bold;display: inline-block;line-height: 1.2em;}#sk-container-id-3 div.sk-label-container {text-align: center;}#sk-container-id-3 div.sk-container {/* jupyter's `normalize.less` sets `[hidden] { display: none; }` but bootstrap.min.css set `[hidden] { display: none !important; }` so we also need the `!important` here to be able to override the default hidden behavior on the sphinx rendered scikit-learn.org. See: https://github.com/scikit-learn/scikit-learn/issues/21755 */display: inline-block !important;position: relative;}#sk-container-id-3 div.sk-text-repr-fallback {display: none;}</style><div id=\"sk-container-id-3\" class=\"sk-top-container\"><div class=\"sk-text-repr-fallback\"><pre>KNeighborsRegressor(weights=&#x27;distance&#x27;)</pre><b>In a Jupyter environment, please rerun this cell to show the HTML representation or trust the notebook. <br />On GitHub, the HTML representation is unable to render, please try loading this page with nbviewer.org.</b></div><div class=\"sk-container\" hidden><div class=\"sk-item\"><div class=\"sk-estimator sk-toggleable\"><input class=\"sk-toggleable__control sk-hidden--visually\" id=\"sk-estimator-id-3\" type=\"checkbox\" checked><label for=\"sk-estimator-id-3\" class=\"sk-toggleable__label sk-toggleable__label-arrow\">KNeighborsRegressor</label><div class=\"sk-toggleable__content\"><pre>KNeighborsRegressor(weights=&#x27;distance&#x27;)</pre></div></div></div></div></div>"
      ],
      "text/plain": [
       "KNeighborsRegressor(weights='distance')"
      ]
     },
     "execution_count": 21,
     "metadata": {},
     "output_type": "execute_result"
    }
   ],
   "source": [
    "#kNN with distance\n",
    "KNR2 = KNeighborsRegressor(weights = 'distance')\n",
    "KNR2.fit(xtrain,ytrain)"
   ]
  },
  {
   "cell_type": "code",
   "execution_count": 22,
   "id": "9ea6af38",
   "metadata": {
    "execution": {
     "iopub.execute_input": "2025-05-19T14:33:11.796036Z",
     "iopub.status.busy": "2025-05-19T14:33:11.795701Z",
     "iopub.status.idle": "2025-05-19T14:33:11.812385Z",
     "shell.execute_reply": "2025-05-19T14:33:11.811616Z"
    },
    "papermill": {
     "duration": 0.02711,
     "end_time": "2025-05-19T14:33:11.813683",
     "exception": false,
     "start_time": "2025-05-19T14:33:11.786573",
     "status": "completed"
    },
    "tags": []
   },
   "outputs": [
    {
     "data": {
      "text/plain": [
       "0.8599135905481368"
      ]
     },
     "execution_count": 22,
     "metadata": {},
     "output_type": "execute_result"
    }
   ],
   "source": [
    "KNR2.score(xtest,ytest) #uniform better"
   ]
  },
  {
   "cell_type": "code",
   "execution_count": 23,
   "id": "f3cc2611",
   "metadata": {
    "execution": {
     "iopub.execute_input": "2025-05-19T14:33:11.831845Z",
     "iopub.status.busy": "2025-05-19T14:33:11.831313Z",
     "iopub.status.idle": "2025-05-19T14:33:11.841602Z",
     "shell.execute_reply": "2025-05-19T14:33:11.840902Z"
    },
    "papermill": {
     "duration": 0.020619,
     "end_time": "2025-05-19T14:33:11.842800",
     "exception": false,
     "start_time": "2025-05-19T14:33:11.822181",
     "status": "completed"
    },
    "tags": []
   },
   "outputs": [
    {
     "data": {
      "text/html": [
       "<style>#sk-container-id-4 {color: black;background-color: white;}#sk-container-id-4 pre{padding: 0;}#sk-container-id-4 div.sk-toggleable {background-color: white;}#sk-container-id-4 label.sk-toggleable__label {cursor: pointer;display: block;width: 100%;margin-bottom: 0;padding: 0.3em;box-sizing: border-box;text-align: center;}#sk-container-id-4 label.sk-toggleable__label-arrow:before {content: \"▸\";float: left;margin-right: 0.25em;color: #696969;}#sk-container-id-4 label.sk-toggleable__label-arrow:hover:before {color: black;}#sk-container-id-4 div.sk-estimator:hover label.sk-toggleable__label-arrow:before {color: black;}#sk-container-id-4 div.sk-toggleable__content {max-height: 0;max-width: 0;overflow: hidden;text-align: left;background-color: #f0f8ff;}#sk-container-id-4 div.sk-toggleable__content pre {margin: 0.2em;color: black;border-radius: 0.25em;background-color: #f0f8ff;}#sk-container-id-4 input.sk-toggleable__control:checked~div.sk-toggleable__content {max-height: 200px;max-width: 100%;overflow: auto;}#sk-container-id-4 input.sk-toggleable__control:checked~label.sk-toggleable__label-arrow:before {content: \"▾\";}#sk-container-id-4 div.sk-estimator input.sk-toggleable__control:checked~label.sk-toggleable__label {background-color: #d4ebff;}#sk-container-id-4 div.sk-label input.sk-toggleable__control:checked~label.sk-toggleable__label {background-color: #d4ebff;}#sk-container-id-4 input.sk-hidden--visually {border: 0;clip: rect(1px 1px 1px 1px);clip: rect(1px, 1px, 1px, 1px);height: 1px;margin: -1px;overflow: hidden;padding: 0;position: absolute;width: 1px;}#sk-container-id-4 div.sk-estimator {font-family: monospace;background-color: #f0f8ff;border: 1px dotted black;border-radius: 0.25em;box-sizing: border-box;margin-bottom: 0.5em;}#sk-container-id-4 div.sk-estimator:hover {background-color: #d4ebff;}#sk-container-id-4 div.sk-parallel-item::after {content: \"\";width: 100%;border-bottom: 1px solid gray;flex-grow: 1;}#sk-container-id-4 div.sk-label:hover label.sk-toggleable__label {background-color: #d4ebff;}#sk-container-id-4 div.sk-serial::before {content: \"\";position: absolute;border-left: 1px solid gray;box-sizing: border-box;top: 0;bottom: 0;left: 50%;z-index: 0;}#sk-container-id-4 div.sk-serial {display: flex;flex-direction: column;align-items: center;background-color: white;padding-right: 0.2em;padding-left: 0.2em;position: relative;}#sk-container-id-4 div.sk-item {position: relative;z-index: 1;}#sk-container-id-4 div.sk-parallel {display: flex;align-items: stretch;justify-content: center;background-color: white;position: relative;}#sk-container-id-4 div.sk-item::before, #sk-container-id-4 div.sk-parallel-item::before {content: \"\";position: absolute;border-left: 1px solid gray;box-sizing: border-box;top: 0;bottom: 0;left: 50%;z-index: -1;}#sk-container-id-4 div.sk-parallel-item {display: flex;flex-direction: column;z-index: 1;position: relative;background-color: white;}#sk-container-id-4 div.sk-parallel-item:first-child::after {align-self: flex-end;width: 50%;}#sk-container-id-4 div.sk-parallel-item:last-child::after {align-self: flex-start;width: 50%;}#sk-container-id-4 div.sk-parallel-item:only-child::after {width: 0;}#sk-container-id-4 div.sk-dashed-wrapped {border: 1px dashed gray;margin: 0 0.4em 0.5em 0.4em;box-sizing: border-box;padding-bottom: 0.4em;background-color: white;}#sk-container-id-4 div.sk-label label {font-family: monospace;font-weight: bold;display: inline-block;line-height: 1.2em;}#sk-container-id-4 div.sk-label-container {text-align: center;}#sk-container-id-4 div.sk-container {/* jupyter's `normalize.less` sets `[hidden] { display: none; }` but bootstrap.min.css set `[hidden] { display: none !important; }` so we also need the `!important` here to be able to override the default hidden behavior on the sphinx rendered scikit-learn.org. See: https://github.com/scikit-learn/scikit-learn/issues/21755 */display: inline-block !important;position: relative;}#sk-container-id-4 div.sk-text-repr-fallback {display: none;}</style><div id=\"sk-container-id-4\" class=\"sk-top-container\"><div class=\"sk-text-repr-fallback\"><pre>KNeighborsRegressor(n_neighbors=100)</pre><b>In a Jupyter environment, please rerun this cell to show the HTML representation or trust the notebook. <br />On GitHub, the HTML representation is unable to render, please try loading this page with nbviewer.org.</b></div><div class=\"sk-container\" hidden><div class=\"sk-item\"><div class=\"sk-estimator sk-toggleable\"><input class=\"sk-toggleable__control sk-hidden--visually\" id=\"sk-estimator-id-4\" type=\"checkbox\" checked><label for=\"sk-estimator-id-4\" class=\"sk-toggleable__label sk-toggleable__label-arrow\">KNeighborsRegressor</label><div class=\"sk-toggleable__content\"><pre>KNeighborsRegressor(n_neighbors=100)</pre></div></div></div></div></div>"
      ],
      "text/plain": [
       "KNeighborsRegressor(n_neighbors=100)"
      ]
     },
     "execution_count": 23,
     "metadata": {},
     "output_type": "execute_result"
    }
   ],
   "source": [
    "#neighbors increase \n",
    "KNR3 = KNeighborsRegressor(n_neighbors=100,weights = 'uniform')\n",
    "KNR3.fit(xtrain,ytrain)"
   ]
  },
  {
   "cell_type": "code",
   "execution_count": 24,
   "id": "24d9166f",
   "metadata": {
    "execution": {
     "iopub.execute_input": "2025-05-19T14:33:11.861406Z",
     "iopub.status.busy": "2025-05-19T14:33:11.860754Z",
     "iopub.status.idle": "2025-05-19T14:33:11.914760Z",
     "shell.execute_reply": "2025-05-19T14:33:11.913852Z"
    },
    "papermill": {
     "duration": 0.064752,
     "end_time": "2025-05-19T14:33:11.916181",
     "exception": false,
     "start_time": "2025-05-19T14:33:11.851429",
     "status": "completed"
    },
    "tags": []
   },
   "outputs": [
    {
     "data": {
      "text/plain": [
       "0.903816678517811"
      ]
     },
     "execution_count": 24,
     "metadata": {},
     "output_type": "execute_result"
    }
   ],
   "source": [
    "KNR3.score(xtest,ytest)"
   ]
  },
  {
   "cell_type": "markdown",
   "id": "161f2800",
   "metadata": {
    "papermill": {
     "duration": 0.00848,
     "end_time": "2025-05-19T14:33:11.933387",
     "exception": false,
     "start_time": "2025-05-19T14:33:11.924907",
     "status": "completed"
    },
    "tags": []
   },
   "source": [
    "# Classification Problem"
   ]
  },
  {
   "cell_type": "code",
   "execution_count": 25,
   "id": "b842997f",
   "metadata": {
    "execution": {
     "iopub.execute_input": "2025-05-19T14:33:11.952207Z",
     "iopub.status.busy": "2025-05-19T14:33:11.951616Z",
     "iopub.status.idle": "2025-05-19T14:33:11.959862Z",
     "shell.execute_reply": "2025-05-19T14:33:11.959147Z"
    },
    "papermill": {
     "duration": 0.019037,
     "end_time": "2025-05-19T14:33:11.961176",
     "exception": false,
     "start_time": "2025-05-19T14:33:11.942139",
     "status": "completed"
    },
    "tags": []
   },
   "outputs": [
    {
     "data": {
      "text/html": [
       "<div>\n",
       "<style scoped>\n",
       "    .dataframe tbody tr th:only-of-type {\n",
       "        vertical-align: middle;\n",
       "    }\n",
       "\n",
       "    .dataframe tbody tr th {\n",
       "        vertical-align: top;\n",
       "    }\n",
       "\n",
       "    .dataframe thead th {\n",
       "        text-align: right;\n",
       "    }\n",
       "</style>\n",
       "<table border=\"1\" class=\"dataframe\">\n",
       "  <thead>\n",
       "    <tr style=\"text-align: right;\">\n",
       "      <th></th>\n",
       "      <th>Gender</th>\n",
       "      <th>Height</th>\n",
       "      <th>Weight</th>\n",
       "    </tr>\n",
       "  </thead>\n",
       "  <tbody>\n",
       "    <tr>\n",
       "      <th>0</th>\n",
       "      <td>1</td>\n",
       "      <td>73.847017</td>\n",
       "      <td>241.893563</td>\n",
       "    </tr>\n",
       "    <tr>\n",
       "      <th>1</th>\n",
       "      <td>1</td>\n",
       "      <td>68.781904</td>\n",
       "      <td>162.310473</td>\n",
       "    </tr>\n",
       "    <tr>\n",
       "      <th>2</th>\n",
       "      <td>1</td>\n",
       "      <td>74.110105</td>\n",
       "      <td>212.740856</td>\n",
       "    </tr>\n",
       "    <tr>\n",
       "      <th>3</th>\n",
       "      <td>1</td>\n",
       "      <td>71.730978</td>\n",
       "      <td>220.042470</td>\n",
       "    </tr>\n",
       "    <tr>\n",
       "      <th>4</th>\n",
       "      <td>1</td>\n",
       "      <td>69.881796</td>\n",
       "      <td>206.349801</td>\n",
       "    </tr>\n",
       "  </tbody>\n",
       "</table>\n",
       "</div>"
      ],
      "text/plain": [
       "   Gender     Height      Weight\n",
       "0       1  73.847017  241.893563\n",
       "1       1  68.781904  162.310473\n",
       "2       1  74.110105  212.740856\n",
       "3       1  71.730978  220.042470\n",
       "4       1  69.881796  206.349801"
      ]
     },
     "execution_count": 25,
     "metadata": {},
     "output_type": "execute_result"
    }
   ],
   "source": [
    "df.head()"
   ]
  },
  {
   "cell_type": "code",
   "execution_count": 26,
   "id": "c5232bdb",
   "metadata": {
    "execution": {
     "iopub.execute_input": "2025-05-19T14:33:11.980155Z",
     "iopub.status.busy": "2025-05-19T14:33:11.979596Z",
     "iopub.status.idle": "2025-05-19T14:33:11.985189Z",
     "shell.execute_reply": "2025-05-19T14:33:11.984410Z"
    },
    "papermill": {
     "duration": 0.016432,
     "end_time": "2025-05-19T14:33:11.986506",
     "exception": false,
     "start_time": "2025-05-19T14:33:11.970074",
     "status": "completed"
    },
    "tags": []
   },
   "outputs": [],
   "source": [
    "Xs = df.drop(['Gender'],axis = 1)\n",
    "Ys = df[['Gender']]"
   ]
  },
  {
   "cell_type": "code",
   "execution_count": 27,
   "id": "4376c075",
   "metadata": {
    "execution": {
     "iopub.execute_input": "2025-05-19T14:33:12.005504Z",
     "iopub.status.busy": "2025-05-19T14:33:12.004568Z",
     "iopub.status.idle": "2025-05-19T14:33:12.011261Z",
     "shell.execute_reply": "2025-05-19T14:33:12.010633Z"
    },
    "papermill": {
     "duration": 0.017407,
     "end_time": "2025-05-19T14:33:12.012593",
     "exception": false,
     "start_time": "2025-05-19T14:33:11.995186",
     "status": "completed"
    },
    "tags": []
   },
   "outputs": [],
   "source": [
    "xtrain2,xtest2,ytrain2,ytest2 = train_test_split(Xs,Ys, train_size = 0.70 , random_state = 42)"
   ]
  },
  {
   "cell_type": "code",
   "execution_count": 28,
   "id": "3a3ca48f",
   "metadata": {
    "execution": {
     "iopub.execute_input": "2025-05-19T14:33:12.032106Z",
     "iopub.status.busy": "2025-05-19T14:33:12.031574Z",
     "iopub.status.idle": "2025-05-19T14:33:12.158687Z",
     "shell.execute_reply": "2025-05-19T14:33:12.157665Z"
    },
    "papermill": {
     "duration": 0.138593,
     "end_time": "2025-05-19T14:33:12.160301",
     "exception": false,
     "start_time": "2025-05-19T14:33:12.021708",
     "status": "completed"
    },
    "tags": []
   },
   "outputs": [
    {
     "data": {
      "text/plain": [
       "0.9131281651733542"
      ]
     },
     "execution_count": 28,
     "metadata": {},
     "output_type": "execute_result"
    }
   ],
   "source": [
    "#kNN Classification\n",
    "\n",
    "from sklearn.neighbors import KNeighborsClassifier\n",
    "KNS = KNeighborsClassifier()\n",
    "KNS.fit(xtrain2,ytrain2)\n",
    "KNS.score(xtest2,ytest2)"
   ]
  },
  {
   "cell_type": "code",
   "execution_count": 29,
   "id": "18e2400d",
   "metadata": {
    "execution": {
     "iopub.execute_input": "2025-05-19T14:33:12.179534Z",
     "iopub.status.busy": "2025-05-19T14:33:12.178779Z",
     "iopub.status.idle": "2025-05-19T14:33:12.200282Z",
     "shell.execute_reply": "2025-05-19T14:33:12.199450Z"
    },
    "papermill": {
     "duration": 0.032448,
     "end_time": "2025-05-19T14:33:12.201621",
     "exception": false,
     "start_time": "2025-05-19T14:33:12.169173",
     "status": "completed"
    },
    "tags": []
   },
   "outputs": [
    {
     "data": {
      "text/plain": [
       "0.9026100506427737"
      ]
     },
     "execution_count": 29,
     "metadata": {},
     "output_type": "execute_result"
    }
   ],
   "source": [
    "KNS2 = KNeighborsClassifier(weights = 'distance')\n",
    "KNS2.fit(xtrain2,ytrain2)\n",
    "KNS2.score(xtest2,ytest2)"
   ]
  },
  {
   "cell_type": "code",
   "execution_count": 30,
   "id": "560d2c0b",
   "metadata": {
    "execution": {
     "iopub.execute_input": "2025-05-19T14:33:12.221616Z",
     "iopub.status.busy": "2025-05-19T14:33:12.221342Z",
     "iopub.status.idle": "2025-05-19T14:33:12.260794Z",
     "shell.execute_reply": "2025-05-19T14:33:12.259945Z"
    },
    "papermill": {
     "duration": 0.051296,
     "end_time": "2025-05-19T14:33:12.262350",
     "exception": false,
     "start_time": "2025-05-19T14:33:12.211054",
     "status": "completed"
    },
    "tags": []
   },
   "outputs": [
    {
     "data": {
      "text/plain": [
       "0.9197506817296455"
      ]
     },
     "execution_count": 30,
     "metadata": {},
     "output_type": "execute_result"
    }
   ],
   "source": [
    "KNS2 = KNeighborsClassifier(n_neighbors=41,weights = 'distance')\n",
    "KNS2.fit(xtrain2,ytrain2)\n",
    "KNS2.score(xtest2,ytest2)"
   ]
  },
  {
   "cell_type": "code",
   "execution_count": 31,
   "id": "d7283fe4",
   "metadata": {
    "execution": {
     "iopub.execute_input": "2025-05-19T14:33:12.282467Z",
     "iopub.status.busy": "2025-05-19T14:33:12.281642Z",
     "iopub.status.idle": "2025-05-19T14:33:12.361491Z",
     "shell.execute_reply": "2025-05-19T14:33:12.360736Z"
    },
    "papermill": {
     "duration": 0.091575,
     "end_time": "2025-05-19T14:33:12.363286",
     "exception": false,
     "start_time": "2025-05-19T14:33:12.271711",
     "status": "completed"
    },
    "tags": []
   },
   "outputs": [
    {
     "data": {
      "text/html": [
       "<style>#sk-container-id-5 {color: black;background-color: white;}#sk-container-id-5 pre{padding: 0;}#sk-container-id-5 div.sk-toggleable {background-color: white;}#sk-container-id-5 label.sk-toggleable__label {cursor: pointer;display: block;width: 100%;margin-bottom: 0;padding: 0.3em;box-sizing: border-box;text-align: center;}#sk-container-id-5 label.sk-toggleable__label-arrow:before {content: \"▸\";float: left;margin-right: 0.25em;color: #696969;}#sk-container-id-5 label.sk-toggleable__label-arrow:hover:before {color: black;}#sk-container-id-5 div.sk-estimator:hover label.sk-toggleable__label-arrow:before {color: black;}#sk-container-id-5 div.sk-toggleable__content {max-height: 0;max-width: 0;overflow: hidden;text-align: left;background-color: #f0f8ff;}#sk-container-id-5 div.sk-toggleable__content pre {margin: 0.2em;color: black;border-radius: 0.25em;background-color: #f0f8ff;}#sk-container-id-5 input.sk-toggleable__control:checked~div.sk-toggleable__content {max-height: 200px;max-width: 100%;overflow: auto;}#sk-container-id-5 input.sk-toggleable__control:checked~label.sk-toggleable__label-arrow:before {content: \"▾\";}#sk-container-id-5 div.sk-estimator input.sk-toggleable__control:checked~label.sk-toggleable__label {background-color: #d4ebff;}#sk-container-id-5 div.sk-label input.sk-toggleable__control:checked~label.sk-toggleable__label {background-color: #d4ebff;}#sk-container-id-5 input.sk-hidden--visually {border: 0;clip: rect(1px 1px 1px 1px);clip: rect(1px, 1px, 1px, 1px);height: 1px;margin: -1px;overflow: hidden;padding: 0;position: absolute;width: 1px;}#sk-container-id-5 div.sk-estimator {font-family: monospace;background-color: #f0f8ff;border: 1px dotted black;border-radius: 0.25em;box-sizing: border-box;margin-bottom: 0.5em;}#sk-container-id-5 div.sk-estimator:hover {background-color: #d4ebff;}#sk-container-id-5 div.sk-parallel-item::after {content: \"\";width: 100%;border-bottom: 1px solid gray;flex-grow: 1;}#sk-container-id-5 div.sk-label:hover label.sk-toggleable__label {background-color: #d4ebff;}#sk-container-id-5 div.sk-serial::before {content: \"\";position: absolute;border-left: 1px solid gray;box-sizing: border-box;top: 0;bottom: 0;left: 50%;z-index: 0;}#sk-container-id-5 div.sk-serial {display: flex;flex-direction: column;align-items: center;background-color: white;padding-right: 0.2em;padding-left: 0.2em;position: relative;}#sk-container-id-5 div.sk-item {position: relative;z-index: 1;}#sk-container-id-5 div.sk-parallel {display: flex;align-items: stretch;justify-content: center;background-color: white;position: relative;}#sk-container-id-5 div.sk-item::before, #sk-container-id-5 div.sk-parallel-item::before {content: \"\";position: absolute;border-left: 1px solid gray;box-sizing: border-box;top: 0;bottom: 0;left: 50%;z-index: -1;}#sk-container-id-5 div.sk-parallel-item {display: flex;flex-direction: column;z-index: 1;position: relative;background-color: white;}#sk-container-id-5 div.sk-parallel-item:first-child::after {align-self: flex-end;width: 50%;}#sk-container-id-5 div.sk-parallel-item:last-child::after {align-self: flex-start;width: 50%;}#sk-container-id-5 div.sk-parallel-item:only-child::after {width: 0;}#sk-container-id-5 div.sk-dashed-wrapped {border: 1px dashed gray;margin: 0 0.4em 0.5em 0.4em;box-sizing: border-box;padding-bottom: 0.4em;background-color: white;}#sk-container-id-5 div.sk-label label {font-family: monospace;font-weight: bold;display: inline-block;line-height: 1.2em;}#sk-container-id-5 div.sk-label-container {text-align: center;}#sk-container-id-5 div.sk-container {/* jupyter's `normalize.less` sets `[hidden] { display: none; }` but bootstrap.min.css set `[hidden] { display: none !important; }` so we also need the `!important` here to be able to override the default hidden behavior on the sphinx rendered scikit-learn.org. See: https://github.com/scikit-learn/scikit-learn/issues/21755 */display: inline-block !important;position: relative;}#sk-container-id-5 div.sk-text-repr-fallback {display: none;}</style><div id=\"sk-container-id-5\" class=\"sk-top-container\"><div class=\"sk-text-repr-fallback\"><pre>LogisticRegression()</pre><b>In a Jupyter environment, please rerun this cell to show the HTML representation or trust the notebook. <br />On GitHub, the HTML representation is unable to render, please try loading this page with nbviewer.org.</b></div><div class=\"sk-container\" hidden><div class=\"sk-item\"><div class=\"sk-estimator sk-toggleable\"><input class=\"sk-toggleable__control sk-hidden--visually\" id=\"sk-estimator-id-5\" type=\"checkbox\" checked><label for=\"sk-estimator-id-5\" class=\"sk-toggleable__label sk-toggleable__label-arrow\">LogisticRegression</label><div class=\"sk-toggleable__content\"><pre>LogisticRegression()</pre></div></div></div></div></div>"
      ],
      "text/plain": [
       "LogisticRegression()"
      ]
     },
     "execution_count": 31,
     "metadata": {},
     "output_type": "execute_result"
    }
   ],
   "source": [
    "#Logistic Regression\n",
    "from sklearn.linear_model import LogisticRegression\n",
    "LR = LogisticRegression()\n",
    "LR.fit(xtrain2,ytrain2)"
   ]
  },
  {
   "cell_type": "code",
   "execution_count": 32,
   "id": "38debafd",
   "metadata": {
    "execution": {
     "iopub.execute_input": "2025-05-19T14:33:12.396682Z",
     "iopub.status.busy": "2025-05-19T14:33:12.396071Z",
     "iopub.status.idle": "2025-05-19T14:33:12.408149Z",
     "shell.execute_reply": "2025-05-19T14:33:12.406556Z"
    },
    "papermill": {
     "duration": 0.030924,
     "end_time": "2025-05-19T14:33:12.409831",
     "exception": false,
     "start_time": "2025-05-19T14:33:12.378907",
     "status": "completed"
    },
    "tags": []
   },
   "outputs": [
    {
     "data": {
      "text/plain": [
       "0.9185820023373588"
      ]
     },
     "execution_count": 32,
     "metadata": {},
     "output_type": "execute_result"
    }
   ],
   "source": [
    "LR.score(xtest2,ytest2)"
   ]
  },
  {
   "cell_type": "markdown",
   "id": "02e1bbf5",
   "metadata": {
    "papermill": {
     "duration": 0.015239,
     "end_time": "2025-05-19T14:33:12.440805",
     "exception": false,
     "start_time": "2025-05-19T14:33:12.425566",
     "status": "completed"
    },
    "tags": []
   },
   "source": [
    "# Comparison of Linear Rgeression and KNN Regressor"
   ]
  },
  {
   "cell_type": "code",
   "execution_count": 33,
   "id": "ead49516",
   "metadata": {
    "execution": {
     "iopub.execute_input": "2025-05-19T14:33:12.473452Z",
     "iopub.status.busy": "2025-05-19T14:33:12.472872Z",
     "iopub.status.idle": "2025-05-19T14:33:13.234079Z",
     "shell.execute_reply": "2025-05-19T14:33:13.233312Z"
    },
    "papermill": {
     "duration": 0.779175,
     "end_time": "2025-05-19T14:33:13.235539",
     "exception": false,
     "start_time": "2025-05-19T14:33:12.456364",
     "status": "completed"
    },
    "tags": []
   },
   "outputs": [
    {
     "name": "stdout",
     "output_type": "stream",
     "text": [
      "With this data the score of Linear Regression is : 90.59112424422659 %\n",
      "With this data the score of kNN Regressor is : 90.3816678517811 %\n"
     ]
    },
    {
     "data": {
      "image/png": "[encoded data removed]",
      "text/plain": [
       "<Figure size 640x480 with 2 Axes>"
      ]
     },
     "metadata": {},
     "output_type": "display_data"
    },
    {
     "data": {
      "image/png": "[encoded data removed]",
      "text/plain": [
       "<Figure size 640x480 with 1 Axes>"
      ]
     },
     "metadata": {},
     "output_type": "display_data"
    }
   ],
   "source": [
    "lgscore = LG.score(xtest,ytest)\n",
    "knnregscore = KNR3.score(xtest,ytest)\n",
    "y_pred_lg = LG.predict(xtest)\n",
    "y_pred_knnr = KNR3.predict(xtest)\n",
    "print(\"With this data the score of Linear Regression is : {} %\".format(lgscore*100))\n",
    "print(\"With this data the score of kNN Regressor is : {} %\".format(knnregscore*100))\n",
    "\n",
    "\n",
    "#plot\n",
    "\n",
    "#plot linear regression\n",
    "plt.subplot(1, 2, 1)\n",
    "plt.scatter(ytest, y_pred_lg, color='blue', label='Linear Regression')\n",
    "plt.plot(ytest, ytest, color='black', linestyle='--')  # Perfect prediction line\n",
    "plt.xlabel(\"Actual\")\n",
    "plt.ylabel(\"Predicted\")\n",
    "plt.title(\"Linear Regression\")\n",
    "plt.legend()\n",
    "#plot KNN\n",
    "plt.subplot(1,2,2)\n",
    "plt.scatter(ytest, y_pred_knnr, color='red',label='kNN Regressor')\n",
    "plt.plot(ytest,ytest,color = 'black',linestyle='--')\n",
    "plt.xlabel(\"Actual\")\n",
    "plt.ylabel(\"Predicted\")\n",
    "plt.title(\"KNN Regressor\")\n",
    "plt.legend()\n",
    "\n",
    "plt.tight_layout()\n",
    "plt.show()\n",
    "\n",
    "models = ['Linear Regression', 'KNN Regressor']\n",
    "scores = [lgscore * 100, knnregscore * 100]\n",
    "\n",
    "plt.bar(models, scores, color=['blue', 'green'])\n",
    "plt.ylabel('Score (%)')\n",
    "plt.title('Model Comparison')\n",
    "plt.ylim(0, 100)\n",
    "plt.show()\n"
   ]
  },
  {
   "cell_type": "markdown",
   "id": "0de0b845",
   "metadata": {
    "papermill": {
     "duration": 0.010339,
     "end_time": "2025-05-19T14:33:13.257060",
     "exception": false,
     "start_time": "2025-05-19T14:33:13.246721",
     "status": "completed"
    },
    "tags": []
   },
   "source": [
    "# Comparison of Logistic Rgeression and KNN Classifier"
   ]
  },
  {
   "cell_type": "code",
   "execution_count": 34,
   "id": "3176a330",
   "metadata": {
    "execution": {
     "iopub.execute_input": "2025-05-19T14:33:13.279681Z",
     "iopub.status.busy": "2025-05-19T14:33:13.279385Z",
     "iopub.status.idle": "2025-05-19T14:33:13.284491Z",
     "shell.execute_reply": "2025-05-19T14:33:13.283678Z"
    },
    "papermill": {
     "duration": 0.018359,
     "end_time": "2025-05-19T14:33:13.285896",
     "exception": false,
     "start_time": "2025-05-19T14:33:13.267537",
     "status": "completed"
    },
    "tags": []
   },
   "outputs": [
    {
     "data": {
      "text/plain": [
       "(5988, 1)"
      ]
     },
     "execution_count": 34,
     "metadata": {},
     "output_type": "execute_result"
    }
   ],
   "source": [
    "ytrain2.shape"
   ]
  },
  {
   "cell_type": "code",
   "execution_count": 35,
   "id": "63678efd",
   "metadata": {
    "execution": {
     "iopub.execute_input": "2025-05-19T14:33:13.309683Z",
     "iopub.status.busy": "2025-05-19T14:33:13.309038Z",
     "iopub.status.idle": "2025-05-19T14:33:14.092832Z",
     "shell.execute_reply": "2025-05-19T14:33:14.092095Z"
    },
    "papermill": {
     "duration": 0.797219,
     "end_time": "2025-05-19T14:33:14.094252",
     "exception": false,
     "start_time": "2025-05-19T14:33:13.297033",
     "status": "completed"
    },
    "tags": []
   },
   "outputs": [
    {
     "name": "stdout",
     "output_type": "stream",
     "text": [
      "With this data the score of Logistic regression is : 91.86 %\n",
      "With this data the score of kNN Classifier is : 91.98 %\n"
     ]
    },
    {
     "data": {
      "image/png": "[encoded data removed]",
      "text/plain": [
       "<Figure size 640x480 with 2 Axes>"
      ]
     },
     "metadata": {},
     "output_type": "display_data"
    },
    {
     "data": {
      "image/png": "[encoded data removed]",
      "text/plain": [
       "<Figure size 640x480 with 1 Axes>"
      ]
     },
     "metadata": {},
     "output_type": "display_data"
    }
   ],
   "source": [
    "# Compute scores\n",
    "logisticscore = LR.score(xtest2, ytest2)\n",
    "knnclassscore = KNS2.score(xtest2, ytest2)\n",
    "\n",
    "# Predict\n",
    "y_pred_logistic = (LR.predict_proba(xtest2)[:, 1] >= 0.5).astype(int)\n",
    "y_pred_knnc = KNS2.predict(xtest2)\n",
    "\n",
    "# Print scores\n",
    "print(\"With this data the score of Logistic regression is : {:.2f} %\".format(logisticscore * 100))\n",
    "print(\"With this data the score of kNN Classifier is : {:.2f} %\".format(knnclassscore * 100))\n",
    "\n",
    "# Plot Logistic Regression\n",
    "plt.subplot(1, 2, 1)\n",
    "plt.scatter(range(len(ytest2)), ytest2, label='Actual', alpha=0.6)\n",
    "plt.scatter(range(len(ytest2)), y_pred_logistic, label='Predicted', alpha=0.6)\n",
    "plt.title(\"Logistic Regression Predictions\")\n",
    "plt.xlabel(\"Sample Index\")\n",
    "plt.ylabel(\"Label\")\n",
    "plt.legend()\n",
    "\n",
    "# Plot kNN Classifier\n",
    "plt.subplot(1, 2, 2)\n",
    "plt.scatter(range(len(ytest2)), ytest2, label='Actual', alpha=0.6)\n",
    "plt.scatter(range(len(ytest2)), y_pred_knnc, label='Predicted', alpha=0.6)\n",
    "plt.title(\"kNN Classifier Predictions\")\n",
    "plt.xlabel(\"Sample Index\")\n",
    "plt.ylabel(\"Label\")\n",
    "plt.legend()\n",
    "\n",
    "plt.tight_layout()\n",
    "plt.show()\n",
    "\n",
    "models = ['Logistic Regression', 'kNN Classifier']\n",
    "scores = [logisticscore * 100, knnclassscore * 100]\n",
    "\n",
    "plt.bar(models, scores, color=['blue', 'green'])\n",
    "plt.ylabel('Score (%)')\n",
    "plt.title('Model Comparison')\n",
    "plt.ylim(0, 100)\n",
    "plt.show()\n"
   ]
  },
  {
   "cell_type": "code",
   "execution_count": null,
   "id": "5496c37d",
   "metadata": {
    "papermill": {
     "duration": 0.011416,
     "end_time": "2025-05-19T14:33:14.117311",
     "exception": false,
     "start_time": "2025-05-19T14:33:14.105895",
     "status": "completed"
    },
    "tags": []
   },
   "outputs": [],
   "source": []
  }
 ],
 "metadata": {
  "kaggle": {
   "accelerator": "none",
   "dataSources": [
    {
     "datasetId": 7459102,
     "sourceId": 11869602,
     "sourceType": "datasetVersion"
    }
   ],
   "dockerImageVersionId": 31040,
   "isGpuEnabled": false,
   "isInternetEnabled": true,
   "language": "python",
   "sourceType": "notebook"
  },
  "kernelspec": {
   "display_name": "Python 3",
   "language": "python",
   "name": "python3"
  },
  "language_info": {
   "codemirror_mode": {
    "name": "ipython",
    "version": 3
   },
   "file_extension": ".py",
   "mimetype": "text/x-python",
   "name": "python",
   "nbconvert_exporter": "python",
   "pygments_lexer": "ipython3",
   "version": "3.11.11"
  },
  "papermill": {
   "default_parameters": {},
   "duration": 12.036065,
   "end_time": "2025-05-19T14:33:14.748382",
   "environment_variables": {},
   "exception": null,
   "input_path": "__notebook__.ipynb",
   "output_path": "__notebook__.ipynb",
   "parameters": {},
   "start_time": "2025-05-19T14:33:02.712317",
   "version": "2.6.0"
  }
 },
 "nbformat": 4,
 "nbformat_minor": 5
}
