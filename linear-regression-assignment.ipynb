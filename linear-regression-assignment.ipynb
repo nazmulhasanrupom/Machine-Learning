{
 "cells": [
  {
   "cell_type": "code",
   "execution_count": 1,
   "id": "c8d7bb67",
   "metadata": {
    "execution": {
     "iopub.execute_input": "2025-05-06T05:52:20.857666Z",
     "iopub.status.busy": "2025-05-06T05:52:20.857368Z",
     "iopub.status.idle": "2025-05-06T05:52:22.617196Z",
     "shell.execute_reply": "2025-05-06T05:52:22.616296Z"
    },
    "papermill": {
     "duration": 1.767711,
     "end_time": "2025-05-06T05:52:22.618891",
     "exception": false,
     "start_time": "2025-05-06T05:52:20.851180",
     "status": "completed"
    },
    "tags": []
   },
   "outputs": [],
   "source": [
    "import pandas as pd\n",
    "import numpy as np"
   ]
  },
  {
   "cell_type": "code",
   "execution_count": 2,
   "id": "dcb7cfdc",
   "metadata": {
    "execution": {
     "iopub.execute_input": "2025-05-06T05:52:22.629368Z",
     "iopub.status.busy": "2025-05-06T05:52:22.628942Z",
     "iopub.status.idle": "2025-05-06T05:52:22.636301Z",
     "shell.execute_reply": "2025-05-06T05:52:22.635464Z"
    },
    "papermill": {
     "duration": 0.014118,
     "end_time": "2025-05-06T05:52:22.637774",
     "exception": false,
     "start_time": "2025-05-06T05:52:22.623656",
     "status": "completed"
    },
    "tags": []
   },
   "outputs": [],
   "source": [
    "data = {\n",
    "    \n",
    "    'Weight':[2,4,5,3,6,5,7],\n",
    "    'Price':[35,60,20,50,50,55,60]\n",
    "}\n",
    "df = pd.DataFrame(data)"
   ]
  },
  {
   "cell_type": "code",
   "execution_count": 3,
   "id": "9266ff89",
   "metadata": {
    "execution": {
     "iopub.execute_input": "2025-05-06T05:52:22.647692Z",
     "iopub.status.busy": "2025-05-06T05:52:22.647371Z",
     "iopub.status.idle": "2025-05-06T05:52:22.670769Z",
     "shell.execute_reply": "2025-05-06T05:52:22.669934Z"
    },
    "papermill": {
     "duration": 0.029755,
     "end_time": "2025-05-06T05:52:22.672045",
     "exception": false,
     "start_time": "2025-05-06T05:52:22.642290",
     "status": "completed"
    },
    "tags": []
   },
   "outputs": [
    {
     "data": {
      "text/html": [
       "<div>\n",
       "<style scoped>\n",
       "    .dataframe tbody tr th:only-of-type {\n",
       "        vertical-align: middle;\n",
       "    }\n",
       "\n",
       "    .dataframe tbody tr th {\n",
       "        vertical-align: top;\n",
       "    }\n",
       "\n",
       "    .dataframe thead th {\n",
       "        text-align: right;\n",
       "    }\n",
       "</style>\n",
       "<table border=\"1\" class=\"dataframe\">\n",
       "  <thead>\n",
       "    <tr style=\"text-align: right;\">\n",
       "      <th></th>\n",
       "      <th>Weight</th>\n",
       "      <th>Price</th>\n",
       "    </tr>\n",
       "  </thead>\n",
       "  <tbody>\n",
       "    <tr>\n",
       "      <th>0</th>\n",
       "      <td>2</td>\n",
       "      <td>35</td>\n",
       "    </tr>\n",
       "    <tr>\n",
       "      <th>1</th>\n",
       "      <td>4</td>\n",
       "      <td>60</td>\n",
       "    </tr>\n",
       "    <tr>\n",
       "      <th>2</th>\n",
       "      <td>5</td>\n",
       "      <td>20</td>\n",
       "    </tr>\n",
       "    <tr>\n",
       "      <th>3</th>\n",
       "      <td>3</td>\n",
       "      <td>50</td>\n",
       "    </tr>\n",
       "    <tr>\n",
       "      <th>4</th>\n",
       "      <td>6</td>\n",
       "      <td>50</td>\n",
       "    </tr>\n",
       "    <tr>\n",
       "      <th>5</th>\n",
       "      <td>5</td>\n",
       "      <td>55</td>\n",
       "    </tr>\n",
       "    <tr>\n",
       "      <th>6</th>\n",
       "      <td>7</td>\n",
       "      <td>60</td>\n",
       "    </tr>\n",
       "  </tbody>\n",
       "</table>\n",
       "</div>"
      ],
      "text/plain": [
       "   Weight  Price\n",
       "0       2     35\n",
       "1       4     60\n",
       "2       5     20\n",
       "3       3     50\n",
       "4       6     50\n",
       "5       5     55\n",
       "6       7     60"
      ]
     },
     "execution_count": 3,
     "metadata": {},
     "output_type": "execute_result"
    }
   ],
   "source": [
    "df"
   ]
  },
  {
   "cell_type": "code",
   "execution_count": 4,
   "id": "4dbb09da",
   "metadata": {
    "execution": {
     "iopub.execute_input": "2025-05-06T05:52:22.682188Z",
     "iopub.status.busy": "2025-05-06T05:52:22.681609Z",
     "iopub.status.idle": "2025-05-06T05:52:22.686690Z",
     "shell.execute_reply": "2025-05-06T05:52:22.686048Z"
    },
    "papermill": {
     "duration": 0.011387,
     "end_time": "2025-05-06T05:52:22.687962",
     "exception": false,
     "start_time": "2025-05-06T05:52:22.676575",
     "status": "completed"
    },
    "tags": []
   },
   "outputs": [
    {
     "data": {
      "text/plain": [
       "(7, 2)"
      ]
     },
     "execution_count": 4,
     "metadata": {},
     "output_type": "execute_result"
    }
   ],
   "source": [
    "df.shape"
   ]
  },
  {
   "cell_type": "code",
   "execution_count": 5,
   "id": "8cef4a32",
   "metadata": {
    "execution": {
     "iopub.execute_input": "2025-05-06T05:52:22.698166Z",
     "iopub.status.busy": "2025-05-06T05:52:22.697538Z",
     "iopub.status.idle": "2025-05-06T05:52:22.703454Z",
     "shell.execute_reply": "2025-05-06T05:52:22.702667Z"
    },
    "papermill": {
     "duration": 0.012485,
     "end_time": "2025-05-06T05:52:22.704893",
     "exception": false,
     "start_time": "2025-05-06T05:52:22.692408",
     "status": "completed"
    },
    "tags": []
   },
   "outputs": [],
   "source": [
    "x = df['Weight']\n",
    "y = df['Price']"
   ]
  },
  {
   "cell_type": "code",
   "execution_count": 6,
   "id": "7af9e2de",
   "metadata": {
    "execution": {
     "iopub.execute_input": "2025-05-06T05:52:22.716367Z",
     "iopub.status.busy": "2025-05-06T05:52:22.716070Z",
     "iopub.status.idle": "2025-05-06T05:52:22.721735Z",
     "shell.execute_reply": "2025-05-06T05:52:22.720768Z"
    },
    "papermill": {
     "duration": 0.01282,
     "end_time": "2025-05-06T05:52:22.723093",
     "exception": false,
     "start_time": "2025-05-06T05:52:22.710273",
     "status": "completed"
    },
    "tags": []
   },
   "outputs": [],
   "source": [
    "x_mean = np.mean(x)\n",
    "y_mean = np.mean(y)"
   ]
  },
  {
   "cell_type": "code",
   "execution_count": 7,
   "id": "0883704d",
   "metadata": {
    "execution": {
     "iopub.execute_input": "2025-05-06T05:52:22.733364Z",
     "iopub.status.busy": "2025-05-06T05:52:22.732666Z",
     "iopub.status.idle": "2025-05-06T05:52:22.737925Z",
     "shell.execute_reply": "2025-05-06T05:52:22.737150Z"
    },
    "papermill": {
     "duration": 0.01163,
     "end_time": "2025-05-06T05:52:22.739231",
     "exception": false,
     "start_time": "2025-05-06T05:52:22.727601",
     "status": "completed"
    },
    "tags": []
   },
   "outputs": [],
   "source": [
    "m = np.sum((x-x_mean)*(y-y_mean))/np.sum((x-x_mean)**2)"
   ]
  },
  {
   "cell_type": "code",
   "execution_count": 8,
   "id": "54735eda",
   "metadata": {
    "execution": {
     "iopub.execute_input": "2025-05-06T05:52:22.749265Z",
     "iopub.status.busy": "2025-05-06T05:52:22.748942Z",
     "iopub.status.idle": "2025-05-06T05:52:22.753878Z",
     "shell.execute_reply": "2025-05-06T05:52:22.753231Z"
    },
    "papermill": {
     "duration": 0.011337,
     "end_time": "2025-05-06T05:52:22.755093",
     "exception": false,
     "start_time": "2025-05-06T05:52:22.743756",
     "status": "completed"
    },
    "tags": []
   },
   "outputs": [
    {
     "data": {
      "text/plain": [
       "2.620967741935484"
      ]
     },
     "execution_count": 8,
     "metadata": {},
     "output_type": "execute_result"
    }
   ],
   "source": [
    "m #slope"
   ]
  },
  {
   "cell_type": "code",
   "execution_count": 9,
   "id": "70296aea",
   "metadata": {
    "execution": {
     "iopub.execute_input": "2025-05-06T05:52:22.765382Z",
     "iopub.status.busy": "2025-05-06T05:52:22.764789Z",
     "iopub.status.idle": "2025-05-06T05:52:22.770189Z",
     "shell.execute_reply": "2025-05-06T05:52:22.769417Z"
    },
    "papermill": {
     "duration": 0.01181,
     "end_time": "2025-05-06T05:52:22.771490",
     "exception": false,
     "start_time": "2025-05-06T05:52:22.759680",
     "status": "completed"
    },
    "tags": []
   },
   "outputs": [
    {
     "data": {
      "text/plain": [
       "35.16129032258065"
      ]
     },
     "execution_count": 9,
     "metadata": {},
     "output_type": "execute_result"
    }
   ],
   "source": [
    "c = y_mean - (m*x_mean)\n",
    "c"
   ]
  },
  {
   "cell_type": "code",
   "execution_count": 10,
   "id": "ed41ab66",
   "metadata": {
    "execution": {
     "iopub.execute_input": "2025-05-06T05:52:22.781878Z",
     "iopub.status.busy": "2025-05-06T05:52:22.781601Z",
     "iopub.status.idle": "2025-05-06T05:52:22.786524Z",
     "shell.execute_reply": "2025-05-06T05:52:22.785871Z"
    },
    "papermill": {
     "duration": 0.011638,
     "end_time": "2025-05-06T05:52:22.787884",
     "exception": false,
     "start_time": "2025-05-06T05:52:22.776246",
     "status": "completed"
    },
    "tags": []
   },
   "outputs": [
    {
     "data": {
      "text/plain": [
       "35.16129032258065"
      ]
     },
     "execution_count": 10,
     "metadata": {},
     "output_type": "execute_result"
    }
   ],
   "source": [
    "c #intercept"
   ]
  },
  {
   "cell_type": "code",
   "execution_count": 11,
   "id": "b1a52f6d",
   "metadata": {
    "execution": {
     "iopub.execute_input": "2025-05-06T05:52:22.798104Z",
     "iopub.status.busy": "2025-05-06T05:52:22.797843Z",
     "iopub.status.idle": "2025-05-06T05:52:22.802044Z",
     "shell.execute_reply": "2025-05-06T05:52:22.801285Z"
    },
    "papermill": {
     "duration": 0.010799,
     "end_time": "2025-05-06T05:52:22.803359",
     "exception": false,
     "start_time": "2025-05-06T05:52:22.792560",
     "status": "completed"
    },
    "tags": []
   },
   "outputs": [],
   "source": [
    "#y = mx+c\n",
    "pred_price = m*x+c"
   ]
  },
  {
   "cell_type": "code",
   "execution_count": 12,
   "id": "9f54bc15",
   "metadata": {
    "execution": {
     "iopub.execute_input": "2025-05-06T05:52:22.813524Z",
     "iopub.status.busy": "2025-05-06T05:52:22.813260Z",
     "iopub.status.idle": "2025-05-06T05:52:22.819071Z",
     "shell.execute_reply": "2025-05-06T05:52:22.818475Z"
    },
    "papermill": {
     "duration": 0.012419,
     "end_time": "2025-05-06T05:52:22.820435",
     "exception": false,
     "start_time": "2025-05-06T05:52:22.808016",
     "status": "completed"
    },
    "tags": []
   },
   "outputs": [
    {
     "data": {
      "text/plain": [
       "0    40.403226\n",
       "1    45.645161\n",
       "2    48.266129\n",
       "3    43.024194\n",
       "4    50.887097\n",
       "5    48.266129\n",
       "6    53.508065\n",
       "Name: Weight, dtype: float64"
      ]
     },
     "execution_count": 12,
     "metadata": {},
     "output_type": "execute_result"
    }
   ],
   "source": [
    "pred_price"
   ]
  },
  {
   "cell_type": "code",
   "execution_count": 13,
   "id": "d5ae7ecb",
   "metadata": {
    "execution": {
     "iopub.execute_input": "2025-05-06T05:52:22.831318Z",
     "iopub.status.busy": "2025-05-06T05:52:22.830684Z",
     "iopub.status.idle": "2025-05-06T05:52:22.834447Z",
     "shell.execute_reply": "2025-05-06T05:52:22.833676Z"
    },
    "papermill": {
     "duration": 0.010492,
     "end_time": "2025-05-06T05:52:22.835753",
     "exception": false,
     "start_time": "2025-05-06T05:52:22.825261",
     "status": "completed"
    },
    "tags": []
   },
   "outputs": [],
   "source": [
    "#price for 6.50 weight\n",
    "pri = m*6.5+c"
   ]
  },
  {
   "cell_type": "code",
   "execution_count": 14,
   "id": "223c82e3",
   "metadata": {
    "execution": {
     "iopub.execute_input": "2025-05-06T05:52:22.846307Z",
     "iopub.status.busy": "2025-05-06T05:52:22.846025Z",
     "iopub.status.idle": "2025-05-06T05:52:22.850925Z",
     "shell.execute_reply": "2025-05-06T05:52:22.850173Z"
    },
    "papermill": {
     "duration": 0.011802,
     "end_time": "2025-05-06T05:52:22.852252",
     "exception": false,
     "start_time": "2025-05-06T05:52:22.840450",
     "status": "completed"
    },
    "tags": []
   },
   "outputs": [
    {
     "data": {
      "text/plain": [
       "52.197580645161295"
      ]
     },
     "execution_count": 14,
     "metadata": {},
     "output_type": "execute_result"
    }
   ],
   "source": [
    "pri #task 01"
   ]
  },
  {
   "cell_type": "code",
   "execution_count": 15,
   "id": "1acf34dd",
   "metadata": {
    "execution": {
     "iopub.execute_input": "2025-05-06T05:52:22.864031Z",
     "iopub.status.busy": "2025-05-06T05:52:22.863415Z",
     "iopub.status.idle": "2025-05-06T05:52:22.873986Z",
     "shell.execute_reply": "2025-05-06T05:52:22.873305Z"
    },
    "papermill": {
     "duration": 0.017771,
     "end_time": "2025-05-06T05:52:22.875243",
     "exception": false,
     "start_time": "2025-05-06T05:52:22.857472",
     "status": "completed"
    },
    "tags": []
   },
   "outputs": [
    {
     "data": {
      "text/html": [
       "<div>\n",
       "<style scoped>\n",
       "    .dataframe tbody tr th:only-of-type {\n",
       "        vertical-align: middle;\n",
       "    }\n",
       "\n",
       "    .dataframe tbody tr th {\n",
       "        vertical-align: top;\n",
       "    }\n",
       "\n",
       "    .dataframe thead th {\n",
       "        text-align: right;\n",
       "    }\n",
       "</style>\n",
       "<table border=\"1\" class=\"dataframe\">\n",
       "  <thead>\n",
       "    <tr style=\"text-align: right;\">\n",
       "      <th></th>\n",
       "      <th>Weight</th>\n",
       "      <th>Price</th>\n",
       "      <th>predicted_price</th>\n",
       "      <th>res</th>\n",
       "    </tr>\n",
       "  </thead>\n",
       "  <tbody>\n",
       "    <tr>\n",
       "      <th>0</th>\n",
       "      <td>2</td>\n",
       "      <td>35</td>\n",
       "      <td>40.403226</td>\n",
       "      <td>-5.403226</td>\n",
       "    </tr>\n",
       "    <tr>\n",
       "      <th>1</th>\n",
       "      <td>4</td>\n",
       "      <td>60</td>\n",
       "      <td>45.645161</td>\n",
       "      <td>14.354839</td>\n",
       "    </tr>\n",
       "    <tr>\n",
       "      <th>2</th>\n",
       "      <td>5</td>\n",
       "      <td>20</td>\n",
       "      <td>48.266129</td>\n",
       "      <td>-28.266129</td>\n",
       "    </tr>\n",
       "    <tr>\n",
       "      <th>3</th>\n",
       "      <td>3</td>\n",
       "      <td>50</td>\n",
       "      <td>43.024194</td>\n",
       "      <td>6.975806</td>\n",
       "    </tr>\n",
       "    <tr>\n",
       "      <th>4</th>\n",
       "      <td>6</td>\n",
       "      <td>50</td>\n",
       "      <td>50.887097</td>\n",
       "      <td>-0.887097</td>\n",
       "    </tr>\n",
       "    <tr>\n",
       "      <th>5</th>\n",
       "      <td>5</td>\n",
       "      <td>55</td>\n",
       "      <td>48.266129</td>\n",
       "      <td>6.733871</td>\n",
       "    </tr>\n",
       "    <tr>\n",
       "      <th>6</th>\n",
       "      <td>7</td>\n",
       "      <td>60</td>\n",
       "      <td>53.508065</td>\n",
       "      <td>6.491935</td>\n",
       "    </tr>\n",
       "  </tbody>\n",
       "</table>\n",
       "</div>"
      ],
      "text/plain": [
       "   Weight  Price  predicted_price        res\n",
       "0       2     35        40.403226  -5.403226\n",
       "1       4     60        45.645161  14.354839\n",
       "2       5     20        48.266129 -28.266129\n",
       "3       3     50        43.024194   6.975806\n",
       "4       6     50        50.887097  -0.887097\n",
       "5       5     55        48.266129   6.733871\n",
       "6       7     60        53.508065   6.491935"
      ]
     },
     "execution_count": 15,
     "metadata": {},
     "output_type": "execute_result"
    }
   ],
   "source": [
    "#residuals\n",
    "df2 = df.copy()\n",
    "df2.head()\n",
    "df2['predicted_price'] = pred_price\n",
    "df2['res'] = df2['Price'] - df2['predicted_price']\n",
    "df2 #task 02"
   ]
  },
  {
   "cell_type": "code",
   "execution_count": 16,
   "id": "686011a5",
   "metadata": {
    "execution": {
     "iopub.execute_input": "2025-05-06T05:52:22.886896Z",
     "iopub.status.busy": "2025-05-06T05:52:22.886172Z",
     "iopub.status.idle": "2025-05-06T05:52:24.214904Z",
     "shell.execute_reply": "2025-05-06T05:52:24.214170Z"
    },
    "papermill": {
     "duration": 1.335808,
     "end_time": "2025-05-06T05:52:24.216527",
     "exception": false,
     "start_time": "2025-05-06T05:52:22.880719",
     "status": "completed"
    },
    "tags": []
   },
   "outputs": [],
   "source": [
    "# mse and mae\n",
    "from sklearn.metrics import mean_squared_error, mean_absolute_error\n"
   ]
  },
  {
   "cell_type": "code",
   "execution_count": 17,
   "id": "882612ac",
   "metadata": {
    "execution": {
     "iopub.execute_input": "2025-05-06T05:52:24.230530Z",
     "iopub.status.busy": "2025-05-06T05:52:24.229447Z",
     "iopub.status.idle": "2025-05-06T05:52:24.242775Z",
     "shell.execute_reply": "2025-05-06T05:52:24.241906Z"
    },
    "papermill": {
     "duration": 0.02222,
     "end_time": "2025-05-06T05:52:24.244460",
     "exception": false,
     "start_time": "2025-05-06T05:52:24.222240",
     "status": "completed"
    },
    "tags": []
   },
   "outputs": [],
   "source": [
    "mse = mean_squared_error(df2[['predicted_price']] , df2[['Price']])"
   ]
  },
  {
   "cell_type": "code",
   "execution_count": 18,
   "id": "4d5426d6",
   "metadata": {
    "execution": {
     "iopub.execute_input": "2025-05-06T05:52:24.256968Z",
     "iopub.status.busy": "2025-05-06T05:52:24.256145Z",
     "iopub.status.idle": "2025-05-06T05:52:24.261186Z",
     "shell.execute_reply": "2025-05-06T05:52:24.260516Z"
    },
    "papermill": {
     "duration": 0.012614,
     "end_time": "2025-05-06T05:52:24.262319",
     "exception": false,
     "start_time": "2025-05-06T05:52:24.249705",
     "status": "completed"
    },
    "tags": []
   },
   "outputs": [
    {
     "data": {
      "text/plain": [
       "167.30990783410135"
      ]
     },
     "execution_count": 18,
     "metadata": {},
     "output_type": "execute_result"
    }
   ],
   "source": [
    "mse"
   ]
  },
  {
   "cell_type": "code",
   "execution_count": 19,
   "id": "7cd294a8",
   "metadata": {
    "execution": {
     "iopub.execute_input": "2025-05-06T05:52:24.273660Z",
     "iopub.status.busy": "2025-05-06T05:52:24.272922Z",
     "iopub.status.idle": "2025-05-06T05:52:24.280338Z",
     "shell.execute_reply": "2025-05-06T05:52:24.279526Z"
    },
    "papermill": {
     "duration": 0.014351,
     "end_time": "2025-05-06T05:52:24.281639",
     "exception": false,
     "start_time": "2025-05-06T05:52:24.267288",
     "status": "completed"
    },
    "tags": []
   },
   "outputs": [],
   "source": [
    "mae = mean_absolute_error(df2[['predicted_price']] , df2[['Price']])"
   ]
  },
  {
   "cell_type": "code",
   "execution_count": 20,
   "id": "602bf732",
   "metadata": {
    "execution": {
     "iopub.execute_input": "2025-05-06T05:52:24.293100Z",
     "iopub.status.busy": "2025-05-06T05:52:24.292413Z",
     "iopub.status.idle": "2025-05-06T05:52:24.297278Z",
     "shell.execute_reply": "2025-05-06T05:52:24.296621Z"
    },
    "papermill": {
     "duration": 0.01167,
     "end_time": "2025-05-06T05:52:24.298444",
     "exception": false,
     "start_time": "2025-05-06T05:52:24.286774",
     "status": "completed"
    },
    "tags": []
   },
   "outputs": [
    {
     "data": {
      "text/plain": [
       "9.87327188940092"
      ]
     },
     "execution_count": 20,
     "metadata": {},
     "output_type": "execute_result"
    }
   ],
   "source": [
    "mae #task 03"
   ]
  },
  {
   "cell_type": "code",
   "execution_count": 21,
   "id": "89f07025",
   "metadata": {
    "execution": {
     "iopub.execute_input": "2025-05-06T05:52:24.312345Z",
     "iopub.status.busy": "2025-05-06T05:52:24.311948Z",
     "iopub.status.idle": "2025-05-06T05:52:24.879113Z",
     "shell.execute_reply": "2025-05-06T05:52:24.878375Z"
    },
    "papermill": {
     "duration": 0.575904,
     "end_time": "2025-05-06T05:52:24.880610",
     "exception": false,
     "start_time": "2025-05-06T05:52:24.304706",
     "status": "completed"
    },
    "tags": []
   },
   "outputs": [],
   "source": [
    "#Final task\n",
    "df2.to_excel('my_data.xlsx')"
   ]
  },
  {
   "cell_type": "code",
   "execution_count": 22,
   "id": "bf3856ea",
   "metadata": {
    "execution": {
     "iopub.execute_input": "2025-05-06T05:52:24.892299Z",
     "iopub.status.busy": "2025-05-06T05:52:24.891454Z",
     "iopub.status.idle": "2025-05-06T05:52:24.987762Z",
     "shell.execute_reply": "2025-05-06T05:52:24.986917Z"
    },
    "papermill": {
     "duration": 0.103707,
     "end_time": "2025-05-06T05:52:24.989466",
     "exception": false,
     "start_time": "2025-05-06T05:52:24.885759",
     "status": "completed"
    },
    "tags": []
   },
   "outputs": [],
   "source": [
    "df3 = pd.read_excel('my_data.xlsx')"
   ]
  },
  {
   "cell_type": "code",
   "execution_count": 23,
   "id": "b9e01f4c",
   "metadata": {
    "execution": {
     "iopub.execute_input": "2025-05-06T05:52:25.001694Z",
     "iopub.status.busy": "2025-05-06T05:52:25.001032Z",
     "iopub.status.idle": "2025-05-06T05:52:25.010386Z",
     "shell.execute_reply": "2025-05-06T05:52:25.009578Z"
    },
    "papermill": {
     "duration": 0.016706,
     "end_time": "2025-05-06T05:52:25.011684",
     "exception": false,
     "start_time": "2025-05-06T05:52:24.994978",
     "status": "completed"
    },
    "tags": []
   },
   "outputs": [
    {
     "data": {
      "text/html": [
       "<div>\n",
       "<style scoped>\n",
       "    .dataframe tbody tr th:only-of-type {\n",
       "        vertical-align: middle;\n",
       "    }\n",
       "\n",
       "    .dataframe tbody tr th {\n",
       "        vertical-align: top;\n",
       "    }\n",
       "\n",
       "    .dataframe thead th {\n",
       "        text-align: right;\n",
       "    }\n",
       "</style>\n",
       "<table border=\"1\" class=\"dataframe\">\n",
       "  <thead>\n",
       "    <tr style=\"text-align: right;\">\n",
       "      <th></th>\n",
       "      <th>Unnamed: 0</th>\n",
       "      <th>Weight</th>\n",
       "      <th>Price</th>\n",
       "      <th>predicted_price</th>\n",
       "      <th>res</th>\n",
       "    </tr>\n",
       "  </thead>\n",
       "  <tbody>\n",
       "    <tr>\n",
       "      <th>0</th>\n",
       "      <td>0</td>\n",
       "      <td>2</td>\n",
       "      <td>35</td>\n",
       "      <td>40.403226</td>\n",
       "      <td>-5.403226</td>\n",
       "    </tr>\n",
       "    <tr>\n",
       "      <th>1</th>\n",
       "      <td>1</td>\n",
       "      <td>4</td>\n",
       "      <td>60</td>\n",
       "      <td>45.645161</td>\n",
       "      <td>14.354839</td>\n",
       "    </tr>\n",
       "    <tr>\n",
       "      <th>2</th>\n",
       "      <td>2</td>\n",
       "      <td>5</td>\n",
       "      <td>20</td>\n",
       "      <td>48.266129</td>\n",
       "      <td>-28.266129</td>\n",
       "    </tr>\n",
       "    <tr>\n",
       "      <th>3</th>\n",
       "      <td>3</td>\n",
       "      <td>3</td>\n",
       "      <td>50</td>\n",
       "      <td>43.024194</td>\n",
       "      <td>6.975806</td>\n",
       "    </tr>\n",
       "    <tr>\n",
       "      <th>4</th>\n",
       "      <td>4</td>\n",
       "      <td>6</td>\n",
       "      <td>50</td>\n",
       "      <td>50.887097</td>\n",
       "      <td>-0.887097</td>\n",
       "    </tr>\n",
       "    <tr>\n",
       "      <th>5</th>\n",
       "      <td>5</td>\n",
       "      <td>5</td>\n",
       "      <td>55</td>\n",
       "      <td>48.266129</td>\n",
       "      <td>6.733871</td>\n",
       "    </tr>\n",
       "    <tr>\n",
       "      <th>6</th>\n",
       "      <td>6</td>\n",
       "      <td>7</td>\n",
       "      <td>60</td>\n",
       "      <td>53.508065</td>\n",
       "      <td>6.491935</td>\n",
       "    </tr>\n",
       "  </tbody>\n",
       "</table>\n",
       "</div>"
      ],
      "text/plain": [
       "   Unnamed: 0  Weight  Price  predicted_price        res\n",
       "0           0       2     35        40.403226  -5.403226\n",
       "1           1       4     60        45.645161  14.354839\n",
       "2           2       5     20        48.266129 -28.266129\n",
       "3           3       3     50        43.024194   6.975806\n",
       "4           4       6     50        50.887097  -0.887097\n",
       "5           5       5     55        48.266129   6.733871\n",
       "6           6       7     60        53.508065   6.491935"
      ]
     },
     "execution_count": 23,
     "metadata": {},
     "output_type": "execute_result"
    }
   ],
   "source": [
    "df3"
   ]
  },
  {
   "cell_type": "code",
   "execution_count": 24,
   "id": "df83e2ac",
   "metadata": {
    "execution": {
     "iopub.execute_input": "2025-05-06T05:52:25.023800Z",
     "iopub.status.busy": "2025-05-06T05:52:25.023229Z",
     "iopub.status.idle": "2025-05-06T05:52:25.027780Z",
     "shell.execute_reply": "2025-05-06T05:52:25.027084Z"
    },
    "papermill": {
     "duration": 0.012051,
     "end_time": "2025-05-06T05:52:25.029083",
     "exception": false,
     "start_time": "2025-05-06T05:52:25.017032",
     "status": "completed"
    },
    "tags": []
   },
   "outputs": [],
   "source": [
    "final_data = df3.drop('Unnamed: 0',axis = 1)"
   ]
  },
  {
   "cell_type": "code",
   "execution_count": 25,
   "id": "f10eb82e",
   "metadata": {
    "execution": {
     "iopub.execute_input": "2025-05-06T05:52:25.040792Z",
     "iopub.status.busy": "2025-05-06T05:52:25.040294Z",
     "iopub.status.idle": "2025-05-06T05:52:25.048850Z",
     "shell.execute_reply": "2025-05-06T05:52:25.048192Z"
    },
    "papermill": {
     "duration": 0.015623,
     "end_time": "2025-05-06T05:52:25.050062",
     "exception": false,
     "start_time": "2025-05-06T05:52:25.034439",
     "status": "completed"
    },
    "tags": []
   },
   "outputs": [
    {
     "data": {
      "text/html": [
       "<div>\n",
       "<style scoped>\n",
       "    .dataframe tbody tr th:only-of-type {\n",
       "        vertical-align: middle;\n",
       "    }\n",
       "\n",
       "    .dataframe tbody tr th {\n",
       "        vertical-align: top;\n",
       "    }\n",
       "\n",
       "    .dataframe thead th {\n",
       "        text-align: right;\n",
       "    }\n",
       "</style>\n",
       "<table border=\"1\" class=\"dataframe\">\n",
       "  <thead>\n",
       "    <tr style=\"text-align: right;\">\n",
       "      <th></th>\n",
       "      <th>Weight</th>\n",
       "      <th>Price</th>\n",
       "      <th>predicted_price</th>\n",
       "      <th>res</th>\n",
       "    </tr>\n",
       "  </thead>\n",
       "  <tbody>\n",
       "    <tr>\n",
       "      <th>0</th>\n",
       "      <td>2</td>\n",
       "      <td>35</td>\n",
       "      <td>40.403226</td>\n",
       "      <td>-5.403226</td>\n",
       "    </tr>\n",
       "    <tr>\n",
       "      <th>1</th>\n",
       "      <td>4</td>\n",
       "      <td>60</td>\n",
       "      <td>45.645161</td>\n",
       "      <td>14.354839</td>\n",
       "    </tr>\n",
       "    <tr>\n",
       "      <th>2</th>\n",
       "      <td>5</td>\n",
       "      <td>20</td>\n",
       "      <td>48.266129</td>\n",
       "      <td>-28.266129</td>\n",
       "    </tr>\n",
       "    <tr>\n",
       "      <th>3</th>\n",
       "      <td>3</td>\n",
       "      <td>50</td>\n",
       "      <td>43.024194</td>\n",
       "      <td>6.975806</td>\n",
       "    </tr>\n",
       "    <tr>\n",
       "      <th>4</th>\n",
       "      <td>6</td>\n",
       "      <td>50</td>\n",
       "      <td>50.887097</td>\n",
       "      <td>-0.887097</td>\n",
       "    </tr>\n",
       "    <tr>\n",
       "      <th>5</th>\n",
       "      <td>5</td>\n",
       "      <td>55</td>\n",
       "      <td>48.266129</td>\n",
       "      <td>6.733871</td>\n",
       "    </tr>\n",
       "    <tr>\n",
       "      <th>6</th>\n",
       "      <td>7</td>\n",
       "      <td>60</td>\n",
       "      <td>53.508065</td>\n",
       "      <td>6.491935</td>\n",
       "    </tr>\n",
       "  </tbody>\n",
       "</table>\n",
       "</div>"
      ],
      "text/plain": [
       "   Weight  Price  predicted_price        res\n",
       "0       2     35        40.403226  -5.403226\n",
       "1       4     60        45.645161  14.354839\n",
       "2       5     20        48.266129 -28.266129\n",
       "3       3     50        43.024194   6.975806\n",
       "4       6     50        50.887097  -0.887097\n",
       "5       5     55        48.266129   6.733871\n",
       "6       7     60        53.508065   6.491935"
      ]
     },
     "execution_count": 25,
     "metadata": {},
     "output_type": "execute_result"
    }
   ],
   "source": [
    "final_data"
   ]
  },
  {
   "cell_type": "code",
   "execution_count": 26,
   "id": "23f812be",
   "metadata": {
    "execution": {
     "iopub.execute_input": "2025-05-06T05:52:25.061925Z",
     "iopub.status.busy": "2025-05-06T05:52:25.061627Z",
     "iopub.status.idle": "2025-05-06T05:52:25.065191Z",
     "shell.execute_reply": "2025-05-06T05:52:25.064517Z"
    },
    "papermill": {
     "duration": 0.010855,
     "end_time": "2025-05-06T05:52:25.066419",
     "exception": false,
     "start_time": "2025-05-06T05:52:25.055564",
     "status": "completed"
    },
    "tags": []
   },
   "outputs": [],
   "source": [
    "# thanks :)"
   ]
  }
 ],
 "metadata": {
  "kaggle": {
   "accelerator": "none",
   "dataSources": [],
   "isGpuEnabled": false,
   "isInternetEnabled": false,
   "language": "python",
   "sourceType": "notebook"
  },
  "kernelspec": {
   "display_name": "Python 3",
   "language": "python",
   "name": "python3"
  },
  "language_info": {
   "codemirror_mode": {
    "name": "ipython",
    "version": 3
   },
   "file_extension": ".py",
   "mimetype": "text/x-python",
   "name": "python",
   "nbconvert_exporter": "python",
   "pygments_lexer": "ipython3",
   "version": "3.11.11"
  },
  "papermill": {
   "default_parameters": {},
   "duration": 9.293147,
   "end_time": "2025-05-06T05:52:25.691001",
   "environment_variables": {},
   "exception": null,
   "input_path": "__notebook__.ipynb",
   "output_path": "__notebook__.ipynb",
   "parameters": {},
   "start_time": "2025-05-06T05:52:16.397854",
   "version": "2.6.0"
  }
 },
 "nbformat": 4,
 "nbformat_minor": 5
}
